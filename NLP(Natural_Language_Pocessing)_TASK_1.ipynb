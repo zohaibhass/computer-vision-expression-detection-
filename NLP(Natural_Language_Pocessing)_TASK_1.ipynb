{
  "nbformat": 4,
  "nbformat_minor": 0,
  "metadata": {
    "colab": {
      "provenance": [],
      "authorship_tag": "ABX9TyPiTi3Vopf6uMSoUmQsqnMq",
      "include_colab_link": true
    },
    "kernelspec": {
      "name": "python3",
      "display_name": "Python 3"
    },
    "language_info": {
      "name": "python"
    }
  },
  "cells": [
    {
      "cell_type": "markdown",
      "metadata": {
        "id": "view-in-github",
        "colab_type": "text"
      },
      "source": [
        "<a href=\"https://colab.research.google.com/github/zohaibhass/computer-vision-expression-detection-/blob/main/NLP(Natural_Language_Pocessing)_TASK_1.ipynb\" target=\"_parent\"><img src=\"https://colab.research.google.com/assets/colab-badge.svg\" alt=\"Open In Colab\"/></a>"
      ]
    },
    {
      "cell_type": "markdown",
      "source": [
        "**import nltk library and download punkt to toknize**"
      ],
      "metadata": {
        "id": "7YWTeyDp0SYK"
      }
    },
    {
      "cell_type": "code",
      "execution_count": 41,
      "metadata": {
        "colab": {
          "base_uri": "https://localhost:8080/"
        },
        "id": "UO42VO_ZK07Q",
        "outputId": "bc03f3aa-a623-4906-d150-9f74b09822af"
      },
      "outputs": [
        {
          "output_type": "stream",
          "name": "stderr",
          "text": [
            "[nltk_data] Downloading package punkt to /root/nltk_data...\n",
            "[nltk_data]   Package punkt is already up-to-date!\n"
          ]
        },
        {
          "output_type": "execute_result",
          "data": {
            "text/plain": [
              "True"
            ]
          },
          "metadata": {},
          "execution_count": 41
        }
      ],
      "source": [
        "import nltk\n",
        "nltk.download('punkt')"
      ]
    },
    {
      "cell_type": "code",
      "source": [
        "from nltk.tokenize import word_tokenize, sent_tokenize"
      ],
      "metadata": {
        "id": "Sm3Qk4R5SxK6"
      },
      "execution_count": 42,
      "outputs": []
    },
    {
      "cell_type": "markdown",
      "source": [
        "**created a variable named corpus which contain nearly 500 words**"
      ],
      "metadata": {
        "id": "-caxMkyW0qgh"
      }
    },
    {
      "cell_type": "code",
      "source": [
        "corpus=\"\"\"\n",
        "Traveling to different countries and exploring the wonders of nature is a deeply enriching and transformative experience that broadens our horizons and connects us to the world in profound ways. As we embark on this incredible journey, we are greeted by the awe-inspiring landscapes, diverse ecosystems, and unique flora and fauna that each country has to offer.\n",
        "\n",
        "From the lush rainforests of Costa Rica to the majestic fjords of Norway, every destination presents a tapestry of natural beauty that captivates our senses. The vibrant colors of tropical birds against the backdrop of dense foliage, or the tranquil reflection of snow-capped mountains on crystal-clear lakes, all create unforgettable moments etched into our memories. Exploring these landscapes gives us an intimate glimpse into the intricate web of life that flourishes on our planet.\n",
        "\n",
        "As we venture into the heart of these countries, we find ourselves immersed in a myriad of ecosystems. The dense Amazon rainforest hums with the melodies of unseen creatures, and the Australian outback stretches out in a seemingly endless expanse, revealing the resilience of life in challenging conditions. The Arctic tundra unveils its delicate flora and reveals the awe-inspiring migrations of animals adapted to extreme environments. Each of these ecosystems reminds us of the delicate balance that sustains life and the importance of preserving them for future generations.\n",
        "\n",
        "Beyond the visual splendor, traveling in different countries allows us to connect with local communities and understand their relationship with nature. Indigenous cultures, often deeply intertwined with their surroundings, share their wisdom about sustainable practices and the spiritual significance of the land. Through their stories and traditions, we learn that our connection to nature goes beyond observation—it's a relationship that demands respect and responsibility.\n",
        "\n",
        "The act of exploration also offers us a chance to reflect on the impact of human activity on the environment. Witnessing coral bleaching in the Great Barrier Reef or the receding glaciers in the Swiss Alps serves as a stark reminder of the urgent need to address climate change. These experiences ignite a sense of stewardship, compelling us to take action in our own lives to protect the natural wonders we've been fortunate to encounter.\n",
        "\n",
        "Traveling across countries to explore nature is not just about admiring the scenic beauty; it's an invitation to step out of our comfort zones and embrace the unfamiliar. Whether it's hiking through the dense forests of Japan or kayaking in the emerald waters of New Zealand, each adventure challenges us and fosters personal growth. We learn to navigate new terrains, adapt to changing weather, and appreciate the simple joys of living in the moment.\n",
        "\n",
        "In conclusion, traveling in different countries and immersing ourselves in the embrace of nature is a transformative journey that connects us to the world's most captivating landscapes and fosters a deep sense of appreciation and responsibility. Through this exploration, we discover the diversity of life, the resilience of ecosystems, and the intricate interplay between humans and the environment. As we return from these journeys, we carry with us not only memories of stunning vistas but also a renewed commitment to preserving and cherishing the natural wonders that make our planet a remarkable and cherished home.\"\"\""
      ],
      "metadata": {
        "id": "Hd7KbrFgNHk5"
      },
      "execution_count": 43,
      "outputs": []
    },
    {
      "cell_type": "markdown",
      "source": [
        "**from nltk imported word_toknize function in order to toknize above variable**"
      ],
      "metadata": {
        "id": "KcWFdsom0_Eq"
      }
    },
    {
      "cell_type": "code",
      "source": [
        "from nltk.tokenize import word_tokenize"
      ],
      "metadata": {
        "id": "hfyUKfz-Q2Kp"
      },
      "execution_count": 44,
      "outputs": []
    },
    {
      "cell_type": "markdown",
      "source": [
        "**toknized**"
      ],
      "metadata": {
        "id": "VddUHVXO1Q7K"
      }
    },
    {
      "cell_type": "code",
      "source": [
        "tokens = word_tokenize(corpus)\n",
        "print(tokens)"
      ],
      "metadata": {
        "colab": {
          "base_uri": "https://localhost:8080/"
        },
        "id": "wEh44UYURUxD",
        "outputId": "03c2dd24-cdf6-4bad-e7aa-d32eb4ae0ea0"
      },
      "execution_count": 45,
      "outputs": [
        {
          "output_type": "stream",
          "name": "stdout",
          "text": [
            "['Traveling', 'to', 'different', 'countries', 'and', 'exploring', 'the', 'wonders', 'of', 'nature', 'is', 'a', 'deeply', 'enriching', 'and', 'transformative', 'experience', 'that', 'broadens', 'our', 'horizons', 'and', 'connects', 'us', 'to', 'the', 'world', 'in', 'profound', 'ways', '.', 'As', 'we', 'embark', 'on', 'this', 'incredible', 'journey', ',', 'we', 'are', 'greeted', 'by', 'the', 'awe-inspiring', 'landscapes', ',', 'diverse', 'ecosystems', ',', 'and', 'unique', 'flora', 'and', 'fauna', 'that', 'each', 'country', 'has', 'to', 'offer', '.', 'From', 'the', 'lush', 'rainforests', 'of', 'Costa', 'Rica', 'to', 'the', 'majestic', 'fjords', 'of', 'Norway', ',', 'every', 'destination', 'presents', 'a', 'tapestry', 'of', 'natural', 'beauty', 'that', 'captivates', 'our', 'senses', '.', 'The', 'vibrant', 'colors', 'of', 'tropical', 'birds', 'against', 'the', 'backdrop', 'of', 'dense', 'foliage', ',', 'or', 'the', 'tranquil', 'reflection', 'of', 'snow-capped', 'mountains', 'on', 'crystal-clear', 'lakes', ',', 'all', 'create', 'unforgettable', 'moments', 'etched', 'into', 'our', 'memories', '.', 'Exploring', 'these', 'landscapes', 'gives', 'us', 'an', 'intimate', 'glimpse', 'into', 'the', 'intricate', 'web', 'of', 'life', 'that', 'flourishes', 'on', 'our', 'planet', '.', 'As', 'we', 'venture', 'into', 'the', 'heart', 'of', 'these', 'countries', ',', 'we', 'find', 'ourselves', 'immersed', 'in', 'a', 'myriad', 'of', 'ecosystems', '.', 'The', 'dense', 'Amazon', 'rainforest', 'hums', 'with', 'the', 'melodies', 'of', 'unseen', 'creatures', ',', 'and', 'the', 'Australian', 'outback', 'stretches', 'out', 'in', 'a', 'seemingly', 'endless', 'expanse', ',', 'revealing', 'the', 'resilience', 'of', 'life', 'in', 'challenging', 'conditions', '.', 'The', 'Arctic', 'tundra', 'unveils', 'its', 'delicate', 'flora', 'and', 'reveals', 'the', 'awe-inspiring', 'migrations', 'of', 'animals', 'adapted', 'to', 'extreme', 'environments', '.', 'Each', 'of', 'these', 'ecosystems', 'reminds', 'us', 'of', 'the', 'delicate', 'balance', 'that', 'sustains', 'life', 'and', 'the', 'importance', 'of', 'preserving', 'them', 'for', 'future', 'generations', '.', 'Beyond', 'the', 'visual', 'splendor', ',', 'traveling', 'in', 'different', 'countries', 'allows', 'us', 'to', 'connect', 'with', 'local', 'communities', 'and', 'understand', 'their', 'relationship', 'with', 'nature', '.', 'Indigenous', 'cultures', ',', 'often', 'deeply', 'intertwined', 'with', 'their', 'surroundings', ',', 'share', 'their', 'wisdom', 'about', 'sustainable', 'practices', 'and', 'the', 'spiritual', 'significance', 'of', 'the', 'land', '.', 'Through', 'their', 'stories', 'and', 'traditions', ',', 'we', 'learn', 'that', 'our', 'connection', 'to', 'nature', 'goes', 'beyond', 'observation—it', \"'s\", 'a', 'relationship', 'that', 'demands', 'respect', 'and', 'responsibility', '.', 'The', 'act', 'of', 'exploration', 'also', 'offers', 'us', 'a', 'chance', 'to', 'reflect', 'on', 'the', 'impact', 'of', 'human', 'activity', 'on', 'the', 'environment', '.', 'Witnessing', 'coral', 'bleaching', 'in', 'the', 'Great', 'Barrier', 'Reef', 'or', 'the', 'receding', 'glaciers', 'in', 'the', 'Swiss', 'Alps', 'serves', 'as', 'a', 'stark', 'reminder', 'of', 'the', 'urgent', 'need', 'to', 'address', 'climate', 'change', '.', 'These', 'experiences', 'ignite', 'a', 'sense', 'of', 'stewardship', ',', 'compelling', 'us', 'to', 'take', 'action', 'in', 'our', 'own', 'lives', 'to', 'protect', 'the', 'natural', 'wonders', 'we', \"'ve\", 'been', 'fortunate', 'to', 'encounter', '.', 'Traveling', 'across', 'countries', 'to', 'explore', 'nature', 'is', 'not', 'just', 'about', 'admiring', 'the', 'scenic', 'beauty', ';', 'it', \"'s\", 'an', 'invitation', 'to', 'step', 'out', 'of', 'our', 'comfort', 'zones', 'and', 'embrace', 'the', 'unfamiliar', '.', 'Whether', 'it', \"'s\", 'hiking', 'through', 'the', 'dense', 'forests', 'of', 'Japan', 'or', 'kayaking', 'in', 'the', 'emerald', 'waters', 'of', 'New', 'Zealand', ',', 'each', 'adventure', 'challenges', 'us', 'and', 'fosters', 'personal', 'growth', '.', 'We', 'learn', 'to', 'navigate', 'new', 'terrains', ',', 'adapt', 'to', 'changing', 'weather', ',', 'and', 'appreciate', 'the', 'simple', 'joys', 'of', 'living', 'in', 'the', 'moment', '.', 'In', 'conclusion', ',', 'traveling', 'in', 'different', 'countries', 'and', 'immersing', 'ourselves', 'in', 'the', 'embrace', 'of', 'nature', 'is', 'a', 'transformative', 'journey', 'that', 'connects', 'us', 'to', 'the', 'world', \"'s\", 'most', 'captivating', 'landscapes', 'and', 'fosters', 'a', 'deep', 'sense', 'of', 'appreciation', 'and', 'responsibility', '.', 'Through', 'this', 'exploration', ',', 'we', 'discover', 'the', 'diversity', 'of', 'life', ',', 'the', 'resilience', 'of', 'ecosystems', ',', 'and', 'the', 'intricate', 'interplay', 'between', 'humans', 'and', 'the', 'environment', '.', 'As', 'we', 'return', 'from', 'these', 'journeys', ',', 'we', 'carry', 'with', 'us', 'not', 'only', 'memories', 'of', 'stunning', 'vistas', 'but', 'also', 'a', 'renewed', 'commitment', 'to', 'preserving', 'and', 'cherishing', 'the', 'natural', 'wonders', 'that', 'make', 'our', 'planet', 'a', 'remarkable', 'and', 'cherished', 'home', '.']\n"
          ]
        }
      ]
    },
    {
      "cell_type": "markdown",
      "source": [
        "**imported wordnet library in order to remove exra elements or normalize**"
      ],
      "metadata": {
        "id": "QkB57bTk1bAH"
      }
    },
    {
      "cell_type": "code",
      "source": [
        "nltk.download('wordnet')"
      ],
      "metadata": {
        "colab": {
          "base_uri": "https://localhost:8080/"
        },
        "id": "63gBZ3ESRj83",
        "outputId": "26d4c416-5b34-4209-d11a-996a5f5ccadb"
      },
      "execution_count": 46,
      "outputs": [
        {
          "output_type": "stream",
          "name": "stderr",
          "text": [
            "[nltk_data] Downloading package wordnet to /root/nltk_data...\n",
            "[nltk_data]   Package wordnet is already up-to-date!\n"
          ]
        },
        {
          "output_type": "execute_result",
          "data": {
            "text/plain": [
              "True"
            ]
          },
          "metadata": {},
          "execution_count": 46
        }
      ]
    },
    {
      "cell_type": "code",
      "source": [
        "from nltk.stem import PorterStemmer"
      ],
      "metadata": {
        "id": "gHKb8M7RTddB"
      },
      "execution_count": 47,
      "outputs": []
    },
    {
      "cell_type": "markdown",
      "source": [
        "**normalized**"
      ],
      "metadata": {
        "id": "vuXlQ7d71yub"
      }
    },
    {
      "cell_type": "code",
      "source": [
        "stemmer = PorterStemmer()\n",
        "stemmed_words = [stemmer.stem(word) for word in tokens]\n",
        "print(\"Original Words:\", tokens)\n",
        "print(\"Stemmed Words:\", stemmed_words)"
      ],
      "metadata": {
        "colab": {
          "base_uri": "https://localhost:8080/"
        },
        "id": "effe26SQTlPu",
        "outputId": "28439b2c-14f6-426e-ab2a-b28faad80bf0"
      },
      "execution_count": 48,
      "outputs": [
        {
          "output_type": "stream",
          "name": "stdout",
          "text": [
            "Original Words: ['Traveling', 'to', 'different', 'countries', 'and', 'exploring', 'the', 'wonders', 'of', 'nature', 'is', 'a', 'deeply', 'enriching', 'and', 'transformative', 'experience', 'that', 'broadens', 'our', 'horizons', 'and', 'connects', 'us', 'to', 'the', 'world', 'in', 'profound', 'ways', '.', 'As', 'we', 'embark', 'on', 'this', 'incredible', 'journey', ',', 'we', 'are', 'greeted', 'by', 'the', 'awe-inspiring', 'landscapes', ',', 'diverse', 'ecosystems', ',', 'and', 'unique', 'flora', 'and', 'fauna', 'that', 'each', 'country', 'has', 'to', 'offer', '.', 'From', 'the', 'lush', 'rainforests', 'of', 'Costa', 'Rica', 'to', 'the', 'majestic', 'fjords', 'of', 'Norway', ',', 'every', 'destination', 'presents', 'a', 'tapestry', 'of', 'natural', 'beauty', 'that', 'captivates', 'our', 'senses', '.', 'The', 'vibrant', 'colors', 'of', 'tropical', 'birds', 'against', 'the', 'backdrop', 'of', 'dense', 'foliage', ',', 'or', 'the', 'tranquil', 'reflection', 'of', 'snow-capped', 'mountains', 'on', 'crystal-clear', 'lakes', ',', 'all', 'create', 'unforgettable', 'moments', 'etched', 'into', 'our', 'memories', '.', 'Exploring', 'these', 'landscapes', 'gives', 'us', 'an', 'intimate', 'glimpse', 'into', 'the', 'intricate', 'web', 'of', 'life', 'that', 'flourishes', 'on', 'our', 'planet', '.', 'As', 'we', 'venture', 'into', 'the', 'heart', 'of', 'these', 'countries', ',', 'we', 'find', 'ourselves', 'immersed', 'in', 'a', 'myriad', 'of', 'ecosystems', '.', 'The', 'dense', 'Amazon', 'rainforest', 'hums', 'with', 'the', 'melodies', 'of', 'unseen', 'creatures', ',', 'and', 'the', 'Australian', 'outback', 'stretches', 'out', 'in', 'a', 'seemingly', 'endless', 'expanse', ',', 'revealing', 'the', 'resilience', 'of', 'life', 'in', 'challenging', 'conditions', '.', 'The', 'Arctic', 'tundra', 'unveils', 'its', 'delicate', 'flora', 'and', 'reveals', 'the', 'awe-inspiring', 'migrations', 'of', 'animals', 'adapted', 'to', 'extreme', 'environments', '.', 'Each', 'of', 'these', 'ecosystems', 'reminds', 'us', 'of', 'the', 'delicate', 'balance', 'that', 'sustains', 'life', 'and', 'the', 'importance', 'of', 'preserving', 'them', 'for', 'future', 'generations', '.', 'Beyond', 'the', 'visual', 'splendor', ',', 'traveling', 'in', 'different', 'countries', 'allows', 'us', 'to', 'connect', 'with', 'local', 'communities', 'and', 'understand', 'their', 'relationship', 'with', 'nature', '.', 'Indigenous', 'cultures', ',', 'often', 'deeply', 'intertwined', 'with', 'their', 'surroundings', ',', 'share', 'their', 'wisdom', 'about', 'sustainable', 'practices', 'and', 'the', 'spiritual', 'significance', 'of', 'the', 'land', '.', 'Through', 'their', 'stories', 'and', 'traditions', ',', 'we', 'learn', 'that', 'our', 'connection', 'to', 'nature', 'goes', 'beyond', 'observation—it', \"'s\", 'a', 'relationship', 'that', 'demands', 'respect', 'and', 'responsibility', '.', 'The', 'act', 'of', 'exploration', 'also', 'offers', 'us', 'a', 'chance', 'to', 'reflect', 'on', 'the', 'impact', 'of', 'human', 'activity', 'on', 'the', 'environment', '.', 'Witnessing', 'coral', 'bleaching', 'in', 'the', 'Great', 'Barrier', 'Reef', 'or', 'the', 'receding', 'glaciers', 'in', 'the', 'Swiss', 'Alps', 'serves', 'as', 'a', 'stark', 'reminder', 'of', 'the', 'urgent', 'need', 'to', 'address', 'climate', 'change', '.', 'These', 'experiences', 'ignite', 'a', 'sense', 'of', 'stewardship', ',', 'compelling', 'us', 'to', 'take', 'action', 'in', 'our', 'own', 'lives', 'to', 'protect', 'the', 'natural', 'wonders', 'we', \"'ve\", 'been', 'fortunate', 'to', 'encounter', '.', 'Traveling', 'across', 'countries', 'to', 'explore', 'nature', 'is', 'not', 'just', 'about', 'admiring', 'the', 'scenic', 'beauty', ';', 'it', \"'s\", 'an', 'invitation', 'to', 'step', 'out', 'of', 'our', 'comfort', 'zones', 'and', 'embrace', 'the', 'unfamiliar', '.', 'Whether', 'it', \"'s\", 'hiking', 'through', 'the', 'dense', 'forests', 'of', 'Japan', 'or', 'kayaking', 'in', 'the', 'emerald', 'waters', 'of', 'New', 'Zealand', ',', 'each', 'adventure', 'challenges', 'us', 'and', 'fosters', 'personal', 'growth', '.', 'We', 'learn', 'to', 'navigate', 'new', 'terrains', ',', 'adapt', 'to', 'changing', 'weather', ',', 'and', 'appreciate', 'the', 'simple', 'joys', 'of', 'living', 'in', 'the', 'moment', '.', 'In', 'conclusion', ',', 'traveling', 'in', 'different', 'countries', 'and', 'immersing', 'ourselves', 'in', 'the', 'embrace', 'of', 'nature', 'is', 'a', 'transformative', 'journey', 'that', 'connects', 'us', 'to', 'the', 'world', \"'s\", 'most', 'captivating', 'landscapes', 'and', 'fosters', 'a', 'deep', 'sense', 'of', 'appreciation', 'and', 'responsibility', '.', 'Through', 'this', 'exploration', ',', 'we', 'discover', 'the', 'diversity', 'of', 'life', ',', 'the', 'resilience', 'of', 'ecosystems', ',', 'and', 'the', 'intricate', 'interplay', 'between', 'humans', 'and', 'the', 'environment', '.', 'As', 'we', 'return', 'from', 'these', 'journeys', ',', 'we', 'carry', 'with', 'us', 'not', 'only', 'memories', 'of', 'stunning', 'vistas', 'but', 'also', 'a', 'renewed', 'commitment', 'to', 'preserving', 'and', 'cherishing', 'the', 'natural', 'wonders', 'that', 'make', 'our', 'planet', 'a', 'remarkable', 'and', 'cherished', 'home', '.']\n",
            "Stemmed Words: ['travel', 'to', 'differ', 'countri', 'and', 'explor', 'the', 'wonder', 'of', 'natur', 'is', 'a', 'deepli', 'enrich', 'and', 'transform', 'experi', 'that', 'broaden', 'our', 'horizon', 'and', 'connect', 'us', 'to', 'the', 'world', 'in', 'profound', 'way', '.', 'as', 'we', 'embark', 'on', 'thi', 'incred', 'journey', ',', 'we', 'are', 'greet', 'by', 'the', 'awe-inspir', 'landscap', ',', 'divers', 'ecosystem', ',', 'and', 'uniqu', 'flora', 'and', 'fauna', 'that', 'each', 'countri', 'ha', 'to', 'offer', '.', 'from', 'the', 'lush', 'rainforest', 'of', 'costa', 'rica', 'to', 'the', 'majest', 'fjord', 'of', 'norway', ',', 'everi', 'destin', 'present', 'a', 'tapestri', 'of', 'natur', 'beauti', 'that', 'captiv', 'our', 'sens', '.', 'the', 'vibrant', 'color', 'of', 'tropic', 'bird', 'against', 'the', 'backdrop', 'of', 'dens', 'foliag', ',', 'or', 'the', 'tranquil', 'reflect', 'of', 'snow-cap', 'mountain', 'on', 'crystal-clear', 'lake', ',', 'all', 'creat', 'unforgett', 'moment', 'etch', 'into', 'our', 'memori', '.', 'explor', 'these', 'landscap', 'give', 'us', 'an', 'intim', 'glimps', 'into', 'the', 'intric', 'web', 'of', 'life', 'that', 'flourish', 'on', 'our', 'planet', '.', 'as', 'we', 'ventur', 'into', 'the', 'heart', 'of', 'these', 'countri', ',', 'we', 'find', 'ourselv', 'immers', 'in', 'a', 'myriad', 'of', 'ecosystem', '.', 'the', 'dens', 'amazon', 'rainforest', 'hum', 'with', 'the', 'melodi', 'of', 'unseen', 'creatur', ',', 'and', 'the', 'australian', 'outback', 'stretch', 'out', 'in', 'a', 'seemingli', 'endless', 'expans', ',', 'reveal', 'the', 'resili', 'of', 'life', 'in', 'challeng', 'condit', '.', 'the', 'arctic', 'tundra', 'unveil', 'it', 'delic', 'flora', 'and', 'reveal', 'the', 'awe-inspir', 'migrat', 'of', 'anim', 'adapt', 'to', 'extrem', 'environ', '.', 'each', 'of', 'these', 'ecosystem', 'remind', 'us', 'of', 'the', 'delic', 'balanc', 'that', 'sustain', 'life', 'and', 'the', 'import', 'of', 'preserv', 'them', 'for', 'futur', 'gener', '.', 'beyond', 'the', 'visual', 'splendor', ',', 'travel', 'in', 'differ', 'countri', 'allow', 'us', 'to', 'connect', 'with', 'local', 'commun', 'and', 'understand', 'their', 'relationship', 'with', 'natur', '.', 'indigen', 'cultur', ',', 'often', 'deepli', 'intertwin', 'with', 'their', 'surround', ',', 'share', 'their', 'wisdom', 'about', 'sustain', 'practic', 'and', 'the', 'spiritu', 'signific', 'of', 'the', 'land', '.', 'through', 'their', 'stori', 'and', 'tradit', ',', 'we', 'learn', 'that', 'our', 'connect', 'to', 'natur', 'goe', 'beyond', 'observation—it', \"'s\", 'a', 'relationship', 'that', 'demand', 'respect', 'and', 'respons', '.', 'the', 'act', 'of', 'explor', 'also', 'offer', 'us', 'a', 'chanc', 'to', 'reflect', 'on', 'the', 'impact', 'of', 'human', 'activ', 'on', 'the', 'environ', '.', 'wit', 'coral', 'bleach', 'in', 'the', 'great', 'barrier', 'reef', 'or', 'the', 'reced', 'glacier', 'in', 'the', 'swiss', 'alp', 'serv', 'as', 'a', 'stark', 'remind', 'of', 'the', 'urgent', 'need', 'to', 'address', 'climat', 'chang', '.', 'these', 'experi', 'ignit', 'a', 'sens', 'of', 'stewardship', ',', 'compel', 'us', 'to', 'take', 'action', 'in', 'our', 'own', 'live', 'to', 'protect', 'the', 'natur', 'wonder', 'we', \"'ve\", 'been', 'fortun', 'to', 'encount', '.', 'travel', 'across', 'countri', 'to', 'explor', 'natur', 'is', 'not', 'just', 'about', 'admir', 'the', 'scenic', 'beauti', ';', 'it', \"'s\", 'an', 'invit', 'to', 'step', 'out', 'of', 'our', 'comfort', 'zone', 'and', 'embrac', 'the', 'unfamiliar', '.', 'whether', 'it', \"'s\", 'hike', 'through', 'the', 'dens', 'forest', 'of', 'japan', 'or', 'kayak', 'in', 'the', 'emerald', 'water', 'of', 'new', 'zealand', ',', 'each', 'adventur', 'challeng', 'us', 'and', 'foster', 'person', 'growth', '.', 'we', 'learn', 'to', 'navig', 'new', 'terrain', ',', 'adapt', 'to', 'chang', 'weather', ',', 'and', 'appreci', 'the', 'simpl', 'joy', 'of', 'live', 'in', 'the', 'moment', '.', 'in', 'conclus', ',', 'travel', 'in', 'differ', 'countri', 'and', 'immers', 'ourselv', 'in', 'the', 'embrac', 'of', 'natur', 'is', 'a', 'transform', 'journey', 'that', 'connect', 'us', 'to', 'the', 'world', \"'s\", 'most', 'captiv', 'landscap', 'and', 'foster', 'a', 'deep', 'sens', 'of', 'appreci', 'and', 'respons', '.', 'through', 'thi', 'explor', ',', 'we', 'discov', 'the', 'divers', 'of', 'life', ',', 'the', 'resili', 'of', 'ecosystem', ',', 'and', 'the', 'intric', 'interplay', 'between', 'human', 'and', 'the', 'environ', '.', 'as', 'we', 'return', 'from', 'these', 'journey', ',', 'we', 'carri', 'with', 'us', 'not', 'onli', 'memori', 'of', 'stun', 'vista', 'but', 'also', 'a', 'renew', 'commit', 'to', 'preserv', 'and', 'cherish', 'the', 'natur', 'wonder', 'that', 'make', 'our', 'planet', 'a', 'remark', 'and', 'cherish', 'home', '.']\n"
          ]
        }
      ]
    },
    {
      "cell_type": "markdown",
      "source": [
        "**use python lower method in order to lowercase above variable**"
      ],
      "metadata": {
        "id": "t5kHiDJ615hr"
      }
    },
    {
      "cell_type": "code",
      "source": [
        "lowercase_words = [word.lower() for word in tokens]\n",
        "print(\"Lowercased Words:\", lowercase_words)"
      ],
      "metadata": {
        "colab": {
          "base_uri": "https://localhost:8080/"
        },
        "id": "8lnU5_UQUo8B",
        "outputId": "17412a67-9209-49c6-ab97-4ff9d293dc8f"
      },
      "execution_count": 49,
      "outputs": [
        {
          "output_type": "stream",
          "name": "stdout",
          "text": [
            "Lowercased Words: ['traveling', 'to', 'different', 'countries', 'and', 'exploring', 'the', 'wonders', 'of', 'nature', 'is', 'a', 'deeply', 'enriching', 'and', 'transformative', 'experience', 'that', 'broadens', 'our', 'horizons', 'and', 'connects', 'us', 'to', 'the', 'world', 'in', 'profound', 'ways', '.', 'as', 'we', 'embark', 'on', 'this', 'incredible', 'journey', ',', 'we', 'are', 'greeted', 'by', 'the', 'awe-inspiring', 'landscapes', ',', 'diverse', 'ecosystems', ',', 'and', 'unique', 'flora', 'and', 'fauna', 'that', 'each', 'country', 'has', 'to', 'offer', '.', 'from', 'the', 'lush', 'rainforests', 'of', 'costa', 'rica', 'to', 'the', 'majestic', 'fjords', 'of', 'norway', ',', 'every', 'destination', 'presents', 'a', 'tapestry', 'of', 'natural', 'beauty', 'that', 'captivates', 'our', 'senses', '.', 'the', 'vibrant', 'colors', 'of', 'tropical', 'birds', 'against', 'the', 'backdrop', 'of', 'dense', 'foliage', ',', 'or', 'the', 'tranquil', 'reflection', 'of', 'snow-capped', 'mountains', 'on', 'crystal-clear', 'lakes', ',', 'all', 'create', 'unforgettable', 'moments', 'etched', 'into', 'our', 'memories', '.', 'exploring', 'these', 'landscapes', 'gives', 'us', 'an', 'intimate', 'glimpse', 'into', 'the', 'intricate', 'web', 'of', 'life', 'that', 'flourishes', 'on', 'our', 'planet', '.', 'as', 'we', 'venture', 'into', 'the', 'heart', 'of', 'these', 'countries', ',', 'we', 'find', 'ourselves', 'immersed', 'in', 'a', 'myriad', 'of', 'ecosystems', '.', 'the', 'dense', 'amazon', 'rainforest', 'hums', 'with', 'the', 'melodies', 'of', 'unseen', 'creatures', ',', 'and', 'the', 'australian', 'outback', 'stretches', 'out', 'in', 'a', 'seemingly', 'endless', 'expanse', ',', 'revealing', 'the', 'resilience', 'of', 'life', 'in', 'challenging', 'conditions', '.', 'the', 'arctic', 'tundra', 'unveils', 'its', 'delicate', 'flora', 'and', 'reveals', 'the', 'awe-inspiring', 'migrations', 'of', 'animals', 'adapted', 'to', 'extreme', 'environments', '.', 'each', 'of', 'these', 'ecosystems', 'reminds', 'us', 'of', 'the', 'delicate', 'balance', 'that', 'sustains', 'life', 'and', 'the', 'importance', 'of', 'preserving', 'them', 'for', 'future', 'generations', '.', 'beyond', 'the', 'visual', 'splendor', ',', 'traveling', 'in', 'different', 'countries', 'allows', 'us', 'to', 'connect', 'with', 'local', 'communities', 'and', 'understand', 'their', 'relationship', 'with', 'nature', '.', 'indigenous', 'cultures', ',', 'often', 'deeply', 'intertwined', 'with', 'their', 'surroundings', ',', 'share', 'their', 'wisdom', 'about', 'sustainable', 'practices', 'and', 'the', 'spiritual', 'significance', 'of', 'the', 'land', '.', 'through', 'their', 'stories', 'and', 'traditions', ',', 'we', 'learn', 'that', 'our', 'connection', 'to', 'nature', 'goes', 'beyond', 'observation—it', \"'s\", 'a', 'relationship', 'that', 'demands', 'respect', 'and', 'responsibility', '.', 'the', 'act', 'of', 'exploration', 'also', 'offers', 'us', 'a', 'chance', 'to', 'reflect', 'on', 'the', 'impact', 'of', 'human', 'activity', 'on', 'the', 'environment', '.', 'witnessing', 'coral', 'bleaching', 'in', 'the', 'great', 'barrier', 'reef', 'or', 'the', 'receding', 'glaciers', 'in', 'the', 'swiss', 'alps', 'serves', 'as', 'a', 'stark', 'reminder', 'of', 'the', 'urgent', 'need', 'to', 'address', 'climate', 'change', '.', 'these', 'experiences', 'ignite', 'a', 'sense', 'of', 'stewardship', ',', 'compelling', 'us', 'to', 'take', 'action', 'in', 'our', 'own', 'lives', 'to', 'protect', 'the', 'natural', 'wonders', 'we', \"'ve\", 'been', 'fortunate', 'to', 'encounter', '.', 'traveling', 'across', 'countries', 'to', 'explore', 'nature', 'is', 'not', 'just', 'about', 'admiring', 'the', 'scenic', 'beauty', ';', 'it', \"'s\", 'an', 'invitation', 'to', 'step', 'out', 'of', 'our', 'comfort', 'zones', 'and', 'embrace', 'the', 'unfamiliar', '.', 'whether', 'it', \"'s\", 'hiking', 'through', 'the', 'dense', 'forests', 'of', 'japan', 'or', 'kayaking', 'in', 'the', 'emerald', 'waters', 'of', 'new', 'zealand', ',', 'each', 'adventure', 'challenges', 'us', 'and', 'fosters', 'personal', 'growth', '.', 'we', 'learn', 'to', 'navigate', 'new', 'terrains', ',', 'adapt', 'to', 'changing', 'weather', ',', 'and', 'appreciate', 'the', 'simple', 'joys', 'of', 'living', 'in', 'the', 'moment', '.', 'in', 'conclusion', ',', 'traveling', 'in', 'different', 'countries', 'and', 'immersing', 'ourselves', 'in', 'the', 'embrace', 'of', 'nature', 'is', 'a', 'transformative', 'journey', 'that', 'connects', 'us', 'to', 'the', 'world', \"'s\", 'most', 'captivating', 'landscapes', 'and', 'fosters', 'a', 'deep', 'sense', 'of', 'appreciation', 'and', 'responsibility', '.', 'through', 'this', 'exploration', ',', 'we', 'discover', 'the', 'diversity', 'of', 'life', ',', 'the', 'resilience', 'of', 'ecosystems', ',', 'and', 'the', 'intricate', 'interplay', 'between', 'humans', 'and', 'the', 'environment', '.', 'as', 'we', 'return', 'from', 'these', 'journeys', ',', 'we', 'carry', 'with', 'us', 'not', 'only', 'memories', 'of', 'stunning', 'vistas', 'but', 'also', 'a', 'renewed', 'commitment', 'to', 'preserving', 'and', 'cherishing', 'the', 'natural', 'wonders', 'that', 'make', 'our', 'planet', 'a', 'remarkable', 'and', 'cherished', 'home', '.']\n"
          ]
        }
      ]
    },
    {
      "cell_type": "markdown",
      "source": [
        "**use python upper method in order to uppercase above variable**"
      ],
      "metadata": {
        "id": "zk5y85F-2Ogd"
      }
    },
    {
      "cell_type": "code",
      "source": [
        "uppercase_words = [word.upper() for word in tokens]\n",
        "print(\"Lowercased Words:\", uppercase_words)"
      ],
      "metadata": {
        "colab": {
          "base_uri": "https://localhost:8080/"
        },
        "id": "wpJNhwgxVEMM",
        "outputId": "57a8515a-706e-4499-849b-37d05e782756"
      },
      "execution_count": 50,
      "outputs": [
        {
          "output_type": "stream",
          "name": "stdout",
          "text": [
            "Lowercased Words: ['TRAVELING', 'TO', 'DIFFERENT', 'COUNTRIES', 'AND', 'EXPLORING', 'THE', 'WONDERS', 'OF', 'NATURE', 'IS', 'A', 'DEEPLY', 'ENRICHING', 'AND', 'TRANSFORMATIVE', 'EXPERIENCE', 'THAT', 'BROADENS', 'OUR', 'HORIZONS', 'AND', 'CONNECTS', 'US', 'TO', 'THE', 'WORLD', 'IN', 'PROFOUND', 'WAYS', '.', 'AS', 'WE', 'EMBARK', 'ON', 'THIS', 'INCREDIBLE', 'JOURNEY', ',', 'WE', 'ARE', 'GREETED', 'BY', 'THE', 'AWE-INSPIRING', 'LANDSCAPES', ',', 'DIVERSE', 'ECOSYSTEMS', ',', 'AND', 'UNIQUE', 'FLORA', 'AND', 'FAUNA', 'THAT', 'EACH', 'COUNTRY', 'HAS', 'TO', 'OFFER', '.', 'FROM', 'THE', 'LUSH', 'RAINFORESTS', 'OF', 'COSTA', 'RICA', 'TO', 'THE', 'MAJESTIC', 'FJORDS', 'OF', 'NORWAY', ',', 'EVERY', 'DESTINATION', 'PRESENTS', 'A', 'TAPESTRY', 'OF', 'NATURAL', 'BEAUTY', 'THAT', 'CAPTIVATES', 'OUR', 'SENSES', '.', 'THE', 'VIBRANT', 'COLORS', 'OF', 'TROPICAL', 'BIRDS', 'AGAINST', 'THE', 'BACKDROP', 'OF', 'DENSE', 'FOLIAGE', ',', 'OR', 'THE', 'TRANQUIL', 'REFLECTION', 'OF', 'SNOW-CAPPED', 'MOUNTAINS', 'ON', 'CRYSTAL-CLEAR', 'LAKES', ',', 'ALL', 'CREATE', 'UNFORGETTABLE', 'MOMENTS', 'ETCHED', 'INTO', 'OUR', 'MEMORIES', '.', 'EXPLORING', 'THESE', 'LANDSCAPES', 'GIVES', 'US', 'AN', 'INTIMATE', 'GLIMPSE', 'INTO', 'THE', 'INTRICATE', 'WEB', 'OF', 'LIFE', 'THAT', 'FLOURISHES', 'ON', 'OUR', 'PLANET', '.', 'AS', 'WE', 'VENTURE', 'INTO', 'THE', 'HEART', 'OF', 'THESE', 'COUNTRIES', ',', 'WE', 'FIND', 'OURSELVES', 'IMMERSED', 'IN', 'A', 'MYRIAD', 'OF', 'ECOSYSTEMS', '.', 'THE', 'DENSE', 'AMAZON', 'RAINFOREST', 'HUMS', 'WITH', 'THE', 'MELODIES', 'OF', 'UNSEEN', 'CREATURES', ',', 'AND', 'THE', 'AUSTRALIAN', 'OUTBACK', 'STRETCHES', 'OUT', 'IN', 'A', 'SEEMINGLY', 'ENDLESS', 'EXPANSE', ',', 'REVEALING', 'THE', 'RESILIENCE', 'OF', 'LIFE', 'IN', 'CHALLENGING', 'CONDITIONS', '.', 'THE', 'ARCTIC', 'TUNDRA', 'UNVEILS', 'ITS', 'DELICATE', 'FLORA', 'AND', 'REVEALS', 'THE', 'AWE-INSPIRING', 'MIGRATIONS', 'OF', 'ANIMALS', 'ADAPTED', 'TO', 'EXTREME', 'ENVIRONMENTS', '.', 'EACH', 'OF', 'THESE', 'ECOSYSTEMS', 'REMINDS', 'US', 'OF', 'THE', 'DELICATE', 'BALANCE', 'THAT', 'SUSTAINS', 'LIFE', 'AND', 'THE', 'IMPORTANCE', 'OF', 'PRESERVING', 'THEM', 'FOR', 'FUTURE', 'GENERATIONS', '.', 'BEYOND', 'THE', 'VISUAL', 'SPLENDOR', ',', 'TRAVELING', 'IN', 'DIFFERENT', 'COUNTRIES', 'ALLOWS', 'US', 'TO', 'CONNECT', 'WITH', 'LOCAL', 'COMMUNITIES', 'AND', 'UNDERSTAND', 'THEIR', 'RELATIONSHIP', 'WITH', 'NATURE', '.', 'INDIGENOUS', 'CULTURES', ',', 'OFTEN', 'DEEPLY', 'INTERTWINED', 'WITH', 'THEIR', 'SURROUNDINGS', ',', 'SHARE', 'THEIR', 'WISDOM', 'ABOUT', 'SUSTAINABLE', 'PRACTICES', 'AND', 'THE', 'SPIRITUAL', 'SIGNIFICANCE', 'OF', 'THE', 'LAND', '.', 'THROUGH', 'THEIR', 'STORIES', 'AND', 'TRADITIONS', ',', 'WE', 'LEARN', 'THAT', 'OUR', 'CONNECTION', 'TO', 'NATURE', 'GOES', 'BEYOND', 'OBSERVATION—IT', \"'S\", 'A', 'RELATIONSHIP', 'THAT', 'DEMANDS', 'RESPECT', 'AND', 'RESPONSIBILITY', '.', 'THE', 'ACT', 'OF', 'EXPLORATION', 'ALSO', 'OFFERS', 'US', 'A', 'CHANCE', 'TO', 'REFLECT', 'ON', 'THE', 'IMPACT', 'OF', 'HUMAN', 'ACTIVITY', 'ON', 'THE', 'ENVIRONMENT', '.', 'WITNESSING', 'CORAL', 'BLEACHING', 'IN', 'THE', 'GREAT', 'BARRIER', 'REEF', 'OR', 'THE', 'RECEDING', 'GLACIERS', 'IN', 'THE', 'SWISS', 'ALPS', 'SERVES', 'AS', 'A', 'STARK', 'REMINDER', 'OF', 'THE', 'URGENT', 'NEED', 'TO', 'ADDRESS', 'CLIMATE', 'CHANGE', '.', 'THESE', 'EXPERIENCES', 'IGNITE', 'A', 'SENSE', 'OF', 'STEWARDSHIP', ',', 'COMPELLING', 'US', 'TO', 'TAKE', 'ACTION', 'IN', 'OUR', 'OWN', 'LIVES', 'TO', 'PROTECT', 'THE', 'NATURAL', 'WONDERS', 'WE', \"'VE\", 'BEEN', 'FORTUNATE', 'TO', 'ENCOUNTER', '.', 'TRAVELING', 'ACROSS', 'COUNTRIES', 'TO', 'EXPLORE', 'NATURE', 'IS', 'NOT', 'JUST', 'ABOUT', 'ADMIRING', 'THE', 'SCENIC', 'BEAUTY', ';', 'IT', \"'S\", 'AN', 'INVITATION', 'TO', 'STEP', 'OUT', 'OF', 'OUR', 'COMFORT', 'ZONES', 'AND', 'EMBRACE', 'THE', 'UNFAMILIAR', '.', 'WHETHER', 'IT', \"'S\", 'HIKING', 'THROUGH', 'THE', 'DENSE', 'FORESTS', 'OF', 'JAPAN', 'OR', 'KAYAKING', 'IN', 'THE', 'EMERALD', 'WATERS', 'OF', 'NEW', 'ZEALAND', ',', 'EACH', 'ADVENTURE', 'CHALLENGES', 'US', 'AND', 'FOSTERS', 'PERSONAL', 'GROWTH', '.', 'WE', 'LEARN', 'TO', 'NAVIGATE', 'NEW', 'TERRAINS', ',', 'ADAPT', 'TO', 'CHANGING', 'WEATHER', ',', 'AND', 'APPRECIATE', 'THE', 'SIMPLE', 'JOYS', 'OF', 'LIVING', 'IN', 'THE', 'MOMENT', '.', 'IN', 'CONCLUSION', ',', 'TRAVELING', 'IN', 'DIFFERENT', 'COUNTRIES', 'AND', 'IMMERSING', 'OURSELVES', 'IN', 'THE', 'EMBRACE', 'OF', 'NATURE', 'IS', 'A', 'TRANSFORMATIVE', 'JOURNEY', 'THAT', 'CONNECTS', 'US', 'TO', 'THE', 'WORLD', \"'S\", 'MOST', 'CAPTIVATING', 'LANDSCAPES', 'AND', 'FOSTERS', 'A', 'DEEP', 'SENSE', 'OF', 'APPRECIATION', 'AND', 'RESPONSIBILITY', '.', 'THROUGH', 'THIS', 'EXPLORATION', ',', 'WE', 'DISCOVER', 'THE', 'DIVERSITY', 'OF', 'LIFE', ',', 'THE', 'RESILIENCE', 'OF', 'ECOSYSTEMS', ',', 'AND', 'THE', 'INTRICATE', 'INTERPLAY', 'BETWEEN', 'HUMANS', 'AND', 'THE', 'ENVIRONMENT', '.', 'AS', 'WE', 'RETURN', 'FROM', 'THESE', 'JOURNEYS', ',', 'WE', 'CARRY', 'WITH', 'US', 'NOT', 'ONLY', 'MEMORIES', 'OF', 'STUNNING', 'VISTAS', 'BUT', 'ALSO', 'A', 'RENEWED', 'COMMITMENT', 'TO', 'PRESERVING', 'AND', 'CHERISHING', 'THE', 'NATURAL', 'WONDERS', 'THAT', 'MAKE', 'OUR', 'PLANET', 'A', 'REMARKABLE', 'AND', 'CHERISHED', 'HOME', '.']\n"
          ]
        }
      ]
    },
    {
      "cell_type": "markdown",
      "source": [
        "**use python captalize method in order to captalize above variable**"
      ],
      "metadata": {
        "id": "4Um-prks2WT6"
      }
    },
    {
      "cell_type": "code",
      "source": [
        "capatalized_words = [word.capitalize() for word in tokens]\n",
        "print(\"Lowercased Words:\", capatalized_words)"
      ],
      "metadata": {
        "colab": {
          "base_uri": "https://localhost:8080/"
        },
        "id": "h2tHQC_fVLdP",
        "outputId": "da2b679b-2322-432a-fec7-0496c6e21117"
      },
      "execution_count": 51,
      "outputs": [
        {
          "output_type": "stream",
          "name": "stdout",
          "text": [
            "Lowercased Words: ['Traveling', 'To', 'Different', 'Countries', 'And', 'Exploring', 'The', 'Wonders', 'Of', 'Nature', 'Is', 'A', 'Deeply', 'Enriching', 'And', 'Transformative', 'Experience', 'That', 'Broadens', 'Our', 'Horizons', 'And', 'Connects', 'Us', 'To', 'The', 'World', 'In', 'Profound', 'Ways', '.', 'As', 'We', 'Embark', 'On', 'This', 'Incredible', 'Journey', ',', 'We', 'Are', 'Greeted', 'By', 'The', 'Awe-inspiring', 'Landscapes', ',', 'Diverse', 'Ecosystems', ',', 'And', 'Unique', 'Flora', 'And', 'Fauna', 'That', 'Each', 'Country', 'Has', 'To', 'Offer', '.', 'From', 'The', 'Lush', 'Rainforests', 'Of', 'Costa', 'Rica', 'To', 'The', 'Majestic', 'Fjords', 'Of', 'Norway', ',', 'Every', 'Destination', 'Presents', 'A', 'Tapestry', 'Of', 'Natural', 'Beauty', 'That', 'Captivates', 'Our', 'Senses', '.', 'The', 'Vibrant', 'Colors', 'Of', 'Tropical', 'Birds', 'Against', 'The', 'Backdrop', 'Of', 'Dense', 'Foliage', ',', 'Or', 'The', 'Tranquil', 'Reflection', 'Of', 'Snow-capped', 'Mountains', 'On', 'Crystal-clear', 'Lakes', ',', 'All', 'Create', 'Unforgettable', 'Moments', 'Etched', 'Into', 'Our', 'Memories', '.', 'Exploring', 'These', 'Landscapes', 'Gives', 'Us', 'An', 'Intimate', 'Glimpse', 'Into', 'The', 'Intricate', 'Web', 'Of', 'Life', 'That', 'Flourishes', 'On', 'Our', 'Planet', '.', 'As', 'We', 'Venture', 'Into', 'The', 'Heart', 'Of', 'These', 'Countries', ',', 'We', 'Find', 'Ourselves', 'Immersed', 'In', 'A', 'Myriad', 'Of', 'Ecosystems', '.', 'The', 'Dense', 'Amazon', 'Rainforest', 'Hums', 'With', 'The', 'Melodies', 'Of', 'Unseen', 'Creatures', ',', 'And', 'The', 'Australian', 'Outback', 'Stretches', 'Out', 'In', 'A', 'Seemingly', 'Endless', 'Expanse', ',', 'Revealing', 'The', 'Resilience', 'Of', 'Life', 'In', 'Challenging', 'Conditions', '.', 'The', 'Arctic', 'Tundra', 'Unveils', 'Its', 'Delicate', 'Flora', 'And', 'Reveals', 'The', 'Awe-inspiring', 'Migrations', 'Of', 'Animals', 'Adapted', 'To', 'Extreme', 'Environments', '.', 'Each', 'Of', 'These', 'Ecosystems', 'Reminds', 'Us', 'Of', 'The', 'Delicate', 'Balance', 'That', 'Sustains', 'Life', 'And', 'The', 'Importance', 'Of', 'Preserving', 'Them', 'For', 'Future', 'Generations', '.', 'Beyond', 'The', 'Visual', 'Splendor', ',', 'Traveling', 'In', 'Different', 'Countries', 'Allows', 'Us', 'To', 'Connect', 'With', 'Local', 'Communities', 'And', 'Understand', 'Their', 'Relationship', 'With', 'Nature', '.', 'Indigenous', 'Cultures', ',', 'Often', 'Deeply', 'Intertwined', 'With', 'Their', 'Surroundings', ',', 'Share', 'Their', 'Wisdom', 'About', 'Sustainable', 'Practices', 'And', 'The', 'Spiritual', 'Significance', 'Of', 'The', 'Land', '.', 'Through', 'Their', 'Stories', 'And', 'Traditions', ',', 'We', 'Learn', 'That', 'Our', 'Connection', 'To', 'Nature', 'Goes', 'Beyond', 'Observation—it', \"'s\", 'A', 'Relationship', 'That', 'Demands', 'Respect', 'And', 'Responsibility', '.', 'The', 'Act', 'Of', 'Exploration', 'Also', 'Offers', 'Us', 'A', 'Chance', 'To', 'Reflect', 'On', 'The', 'Impact', 'Of', 'Human', 'Activity', 'On', 'The', 'Environment', '.', 'Witnessing', 'Coral', 'Bleaching', 'In', 'The', 'Great', 'Barrier', 'Reef', 'Or', 'The', 'Receding', 'Glaciers', 'In', 'The', 'Swiss', 'Alps', 'Serves', 'As', 'A', 'Stark', 'Reminder', 'Of', 'The', 'Urgent', 'Need', 'To', 'Address', 'Climate', 'Change', '.', 'These', 'Experiences', 'Ignite', 'A', 'Sense', 'Of', 'Stewardship', ',', 'Compelling', 'Us', 'To', 'Take', 'Action', 'In', 'Our', 'Own', 'Lives', 'To', 'Protect', 'The', 'Natural', 'Wonders', 'We', \"'ve\", 'Been', 'Fortunate', 'To', 'Encounter', '.', 'Traveling', 'Across', 'Countries', 'To', 'Explore', 'Nature', 'Is', 'Not', 'Just', 'About', 'Admiring', 'The', 'Scenic', 'Beauty', ';', 'It', \"'s\", 'An', 'Invitation', 'To', 'Step', 'Out', 'Of', 'Our', 'Comfort', 'Zones', 'And', 'Embrace', 'The', 'Unfamiliar', '.', 'Whether', 'It', \"'s\", 'Hiking', 'Through', 'The', 'Dense', 'Forests', 'Of', 'Japan', 'Or', 'Kayaking', 'In', 'The', 'Emerald', 'Waters', 'Of', 'New', 'Zealand', ',', 'Each', 'Adventure', 'Challenges', 'Us', 'And', 'Fosters', 'Personal', 'Growth', '.', 'We', 'Learn', 'To', 'Navigate', 'New', 'Terrains', ',', 'Adapt', 'To', 'Changing', 'Weather', ',', 'And', 'Appreciate', 'The', 'Simple', 'Joys', 'Of', 'Living', 'In', 'The', 'Moment', '.', 'In', 'Conclusion', ',', 'Traveling', 'In', 'Different', 'Countries', 'And', 'Immersing', 'Ourselves', 'In', 'The', 'Embrace', 'Of', 'Nature', 'Is', 'A', 'Transformative', 'Journey', 'That', 'Connects', 'Us', 'To', 'The', 'World', \"'s\", 'Most', 'Captivating', 'Landscapes', 'And', 'Fosters', 'A', 'Deep', 'Sense', 'Of', 'Appreciation', 'And', 'Responsibility', '.', 'Through', 'This', 'Exploration', ',', 'We', 'Discover', 'The', 'Diversity', 'Of', 'Life', ',', 'The', 'Resilience', 'Of', 'Ecosystems', ',', 'And', 'The', 'Intricate', 'Interplay', 'Between', 'Humans', 'And', 'The', 'Environment', '.', 'As', 'We', 'Return', 'From', 'These', 'Journeys', ',', 'We', 'Carry', 'With', 'Us', 'Not', 'Only', 'Memories', 'Of', 'Stunning', 'Vistas', 'But', 'Also', 'A', 'Renewed', 'Commitment', 'To', 'Preserving', 'And', 'Cherishing', 'The', 'Natural', 'Wonders', 'That', 'Make', 'Our', 'Planet', 'A', 'Remarkable', 'And', 'Cherished', 'Home', '.']\n"
          ]
        }
      ]
    },
    {
      "cell_type": "markdown",
      "source": [
        "**downloaded stopword library in order to remove most repeated words from above variable**"
      ],
      "metadata": {
        "id": "n8CZr4Sx2d5e"
      }
    },
    {
      "cell_type": "code",
      "source": [
        "nltk.download('stopwords')\n",
        "from nltk.corpus import stopwords"
      ],
      "metadata": {
        "colab": {
          "base_uri": "https://localhost:8080/"
        },
        "id": "BrvRd_ciVxNv",
        "outputId": "8ecca188-8b55-4ebf-d76d-7777a579d40e"
      },
      "execution_count": 52,
      "outputs": [
        {
          "output_type": "stream",
          "name": "stderr",
          "text": [
            "[nltk_data] Downloading package stopwords to /root/nltk_data...\n",
            "[nltk_data]   Package stopwords is already up-to-date!\n"
          ]
        }
      ]
    },
    {
      "cell_type": "markdown",
      "source": [
        "**filtered words (stopwords) below**"
      ],
      "metadata": {
        "id": "A9XL_zMM4cWL"
      }
    },
    {
      "cell_type": "code",
      "source": [
        "stop_words = set(stopwords.words('english'))"
      ],
      "metadata": {
        "id": "-U0aOzRsWSK8"
      },
      "execution_count": 54,
      "outputs": []
    },
    {
      "cell_type": "code",
      "source": [
        "filtered_words = [word for word in tokens if word.lower() not in stop_words]"
      ],
      "metadata": {
        "id": "l5Uj6aB84Jxj"
      },
      "execution_count": 55,
      "outputs": []
    },
    {
      "cell_type": "code",
      "source": [
        "print(filtered_words)"
      ],
      "metadata": {
        "colab": {
          "base_uri": "https://localhost:8080/"
        },
        "id": "u5wLSwDE4Rv5",
        "outputId": "aeae6a2e-de6c-462b-a136-476e1cdd2d96"
      },
      "execution_count": 56,
      "outputs": [
        {
          "output_type": "stream",
          "name": "stdout",
          "text": [
            "['Traveling', 'different', 'countries', 'exploring', 'wonders', 'nature', 'deeply', 'enriching', 'transformative', 'experience', 'broadens', 'horizons', 'connects', 'us', 'world', 'profound', 'ways', '.', 'embark', 'incredible', 'journey', ',', 'greeted', 'awe-inspiring', 'landscapes', ',', 'diverse', 'ecosystems', ',', 'unique', 'flora', 'fauna', 'country', 'offer', '.', 'lush', 'rainforests', 'Costa', 'Rica', 'majestic', 'fjords', 'Norway', ',', 'every', 'destination', 'presents', 'tapestry', 'natural', 'beauty', 'captivates', 'senses', '.', 'vibrant', 'colors', 'tropical', 'birds', 'backdrop', 'dense', 'foliage', ',', 'tranquil', 'reflection', 'snow-capped', 'mountains', 'crystal-clear', 'lakes', ',', 'create', 'unforgettable', 'moments', 'etched', 'memories', '.', 'Exploring', 'landscapes', 'gives', 'us', 'intimate', 'glimpse', 'intricate', 'web', 'life', 'flourishes', 'planet', '.', 'venture', 'heart', 'countries', ',', 'find', 'immersed', 'myriad', 'ecosystems', '.', 'dense', 'Amazon', 'rainforest', 'hums', 'melodies', 'unseen', 'creatures', ',', 'Australian', 'outback', 'stretches', 'seemingly', 'endless', 'expanse', ',', 'revealing', 'resilience', 'life', 'challenging', 'conditions', '.', 'Arctic', 'tundra', 'unveils', 'delicate', 'flora', 'reveals', 'awe-inspiring', 'migrations', 'animals', 'adapted', 'extreme', 'environments', '.', 'ecosystems', 'reminds', 'us', 'delicate', 'balance', 'sustains', 'life', 'importance', 'preserving', 'future', 'generations', '.', 'Beyond', 'visual', 'splendor', ',', 'traveling', 'different', 'countries', 'allows', 'us', 'connect', 'local', 'communities', 'understand', 'relationship', 'nature', '.', 'Indigenous', 'cultures', ',', 'often', 'deeply', 'intertwined', 'surroundings', ',', 'share', 'wisdom', 'sustainable', 'practices', 'spiritual', 'significance', 'land', '.', 'stories', 'traditions', ',', 'learn', 'connection', 'nature', 'goes', 'beyond', 'observation—it', \"'s\", 'relationship', 'demands', 'respect', 'responsibility', '.', 'act', 'exploration', 'also', 'offers', 'us', 'chance', 'reflect', 'impact', 'human', 'activity', 'environment', '.', 'Witnessing', 'coral', 'bleaching', 'Great', 'Barrier', 'Reef', 'receding', 'glaciers', 'Swiss', 'Alps', 'serves', 'stark', 'reminder', 'urgent', 'need', 'address', 'climate', 'change', '.', 'experiences', 'ignite', 'sense', 'stewardship', ',', 'compelling', 'us', 'take', 'action', 'lives', 'protect', 'natural', 'wonders', \"'ve\", 'fortunate', 'encounter', '.', 'Traveling', 'across', 'countries', 'explore', 'nature', 'admiring', 'scenic', 'beauty', ';', \"'s\", 'invitation', 'step', 'comfort', 'zones', 'embrace', 'unfamiliar', '.', 'Whether', \"'s\", 'hiking', 'dense', 'forests', 'Japan', 'kayaking', 'emerald', 'waters', 'New', 'Zealand', ',', 'adventure', 'challenges', 'us', 'fosters', 'personal', 'growth', '.', 'learn', 'navigate', 'new', 'terrains', ',', 'adapt', 'changing', 'weather', ',', 'appreciate', 'simple', 'joys', 'living', 'moment', '.', 'conclusion', ',', 'traveling', 'different', 'countries', 'immersing', 'embrace', 'nature', 'transformative', 'journey', 'connects', 'us', 'world', \"'s\", 'captivating', 'landscapes', 'fosters', 'deep', 'sense', 'appreciation', 'responsibility', '.', 'exploration', ',', 'discover', 'diversity', 'life', ',', 'resilience', 'ecosystems', ',', 'intricate', 'interplay', 'humans', 'environment', '.', 'return', 'journeys', ',', 'carry', 'us', 'memories', 'stunning', 'vistas', 'also', 'renewed', 'commitment', 'preserving', 'cherishing', 'natural', 'wonders', 'make', 'planet', 'remarkable', 'cherished', 'home', '.']\n"
          ]
        }
      ]
    },
    {
      "cell_type": "markdown",
      "source": [
        "**download nltk.download('averaged_perceptron_tagger') for - Parts of Speech Tagging**"
      ],
      "metadata": {
        "id": "7SIPtCIJ5Lqr"
      }
    },
    {
      "cell_type": "code",
      "source": [
        "nltk.download('averaged_perceptron_tagger')"
      ],
      "metadata": {
        "colab": {
          "base_uri": "https://localhost:8080/"
        },
        "id": "HAbImGhk4YfU",
        "outputId": "0721aaf7-baf7-4abc-fc8b-b9a844400856"
      },
      "execution_count": 57,
      "outputs": [
        {
          "output_type": "stream",
          "name": "stderr",
          "text": [
            "[nltk_data] Downloading package averaged_perceptron_tagger to\n",
            "[nltk_data]     /root/nltk_data...\n",
            "[nltk_data]   Package averaged_perceptron_tagger is already up-to-\n",
            "[nltk_data]       date!\n"
          ]
        },
        {
          "output_type": "execute_result",
          "data": {
            "text/plain": [
              "True"
            ]
          },
          "metadata": {},
          "execution_count": 57
        }
      ]
    },
    {
      "cell_type": "code",
      "source": [
        "from nltk import pos_tag\n"
      ],
      "metadata": {
        "id": "jeJhP6op5RpV"
      },
      "execution_count": 58,
      "outputs": []
    },
    {
      "cell_type": "code",
      "source": [
        "pos_tags = pos_tag(tokens)\n",
        "print(pos_tags)"
      ],
      "metadata": {
        "colab": {
          "base_uri": "https://localhost:8080/"
        },
        "id": "ie_ttd_z5Yyt",
        "outputId": "e1717b5e-9a7a-4ba4-c892-b787f2076560"
      },
      "execution_count": 26,
      "outputs": [
        {
          "output_type": "stream",
          "name": "stdout",
          "text": [
            "[('Contrary', 'JJ'), ('to', 'TO'), ('popular', 'JJ'), ('belief', 'NN'), (',', ','), ('Lorem', 'NNP'), ('Ipsum', 'NNP'), ('is', 'VBZ'), ('not', 'RB'), ('simply', 'RB'), ('random', 'JJ'), ('text', 'NN'), ('.', '.'), ('It', 'PRP'), ('has', 'VBZ'), ('roots', 'VBN'), ('in', 'IN'), ('a', 'DT'), ('piece', 'NN'), ('of', 'IN'), ('classical', 'JJ'), ('Latin', 'JJ'), ('literature', 'NN'), ('from', 'IN'), ('45', 'CD'), ('BC', 'NNP'), (',', ','), ('making', 'VBG'), ('it', 'PRP'), ('over', 'IN'), ('2000', 'CD'), ('years', 'NNS'), ('old', 'JJ'), ('.', '.'), ('Richard', 'NNP'), ('McClintock', 'NNP'), (',', ','), ('a', 'DT'), ('Latin', 'NN'), ('professor', 'NN'), ('at', 'IN'), ('Hampden-Sydney', 'NNP'), ('College', 'NNP'), ('in', 'IN'), ('Virginia', 'NNP'), (',', ','), ('looked', 'VBD'), ('up', 'RP'), ('one', 'CD'), ('of', 'IN'), ('the', 'DT'), ('more', 'RBR'), ('obscure', 'JJ'), ('Latin', 'NNP'), ('words', 'NNS'), (',', ','), ('consectetur', 'NN'), (',', ','), ('from', 'IN'), ('a', 'DT'), ('Lorem', 'NNP'), ('Ipsum', 'NNP'), ('passage', 'NN'), (',', ','), ('and', 'CC'), ('going', 'VBG'), ('through', 'IN'), ('the', 'DT'), ('cites', 'NNS'), ('of', 'IN'), ('the', 'DT'), ('word', 'NN'), ('in', 'IN'), ('classical', 'JJ'), ('literature', 'NN'), (',', ','), ('discovered', 'VBD'), ('the', 'DT'), ('undoubtable', 'JJ'), ('source', 'NN'), ('.', '.'), ('Lorem', 'NNP'), ('Ipsum', 'NNP'), ('comes', 'VBZ'), ('from', 'IN'), ('sections', 'NNS'), ('1.10.32', 'CD'), ('and', 'CC'), ('1.10.33', 'CD'), ('of', 'IN'), ('``', '``'), ('de', 'FW'), ('Finibus', 'NNP'), ('Bonorum', 'NNP'), ('et', 'FW'), ('Malorum', 'NNP'), (\"''\", \"''\"), ('(', '('), ('The', 'DT'), ('Extremes', 'NNP'), ('of', 'IN'), ('Good', 'NNP'), ('and', 'CC'), ('Evil', 'NNP'), (')', ')'), ('by', 'IN'), ('Cicero', 'NNP'), (',', ','), ('written', 'VBN'), ('in', 'IN'), ('45', 'CD'), ('BC', 'NNP'), ('.', '.'), ('This', 'DT'), ('book', 'NN'), ('is', 'VBZ'), ('a', 'DT'), ('treatise', 'NN'), ('on', 'IN'), ('the', 'DT'), ('theory', 'NN'), ('of', 'IN'), ('ethics', 'NNS'), (',', ','), ('very', 'RB'), ('popular', 'JJ'), ('during', 'IN'), ('the', 'DT'), ('Renaissance', 'NNP'), ('.', '.'), ('The', 'DT'), ('first', 'JJ'), ('line', 'NN'), ('of', 'IN'), ('Lorem', 'NNP'), ('Ipsum', 'NNP'), (',', ','), ('``', '``'), ('Lorem', 'NNP'), ('ipsum', 'NN'), ('dolor', 'NN'), ('sit', 'NN'), ('amet', 'VBD'), ('..', 'NNP'), (\"''\", \"''\"), (',', ','), ('comes', 'VBZ'), ('from', 'IN'), ('a', 'DT'), ('line', 'NN'), ('in', 'IN'), ('section', 'NN'), ('1.10.32', 'CD'), ('.', '.'), ('The', 'DT'), ('standard', 'JJ'), ('chunk', 'NN'), ('of', 'IN'), ('Lorem', 'NNP'), ('Ipsum', 'NNP'), ('used', 'VBD'), ('since', 'IN'), ('the', 'DT'), ('1500s', 'CD'), ('is', 'VBZ'), ('reproduced', 'VBN'), ('below', 'IN'), ('for', 'IN'), ('those', 'DT'), ('interested', 'JJ'), ('.', '.'), ('Sections', 'NNS'), ('1.10.32', 'CD'), ('and', 'CC'), ('1.10.33', 'CD'), ('from', 'IN'), ('``', '``'), ('de', 'FW'), ('Finibus', 'NNP'), ('Bonorum', 'NNP'), ('et', 'FW'), ('Malorum', 'NNP'), (\"''\", \"''\"), ('by', 'IN'), ('Cicero', 'NNP'), ('are', 'VBP'), ('also', 'RB'), ('reproduced', 'VBN'), ('in', 'IN'), ('their', 'PRP$'), ('exact', 'JJ'), ('original', 'JJ'), ('form', 'NN'), (',', ','), ('accompanied', 'VBN'), ('by', 'IN'), ('English', 'JJ'), ('versions', 'NNS'), ('from', 'IN'), ('the', 'DT'), ('1914', 'CD'), ('translation', 'NN'), ('by', 'IN'), ('H.', 'NNP'), ('Rackham', 'NNP'), ('.', '.')]\n"
          ]
        }
      ]
    },
    {
      "cell_type": "markdown",
      "source": [
        "import ne_chunk to Perform Named Entity Recognition:"
      ],
      "metadata": {
        "id": "2gHCC3y56M8f"
      }
    },
    {
      "cell_type": "code",
      "source": [
        "nltk.download('maxent_ne_chunker')\n",
        "nltk.download('words')\n",
        "from nltk import pos_tag, ne_chunk\n"
      ],
      "metadata": {
        "colab": {
          "base_uri": "https://localhost:8080/"
        },
        "id": "RJIy_8rx5n6l",
        "outputId": "749f29f8-18f0-426d-ba95-06736ea3fac0"
      },
      "execution_count": 59,
      "outputs": [
        {
          "output_type": "stream",
          "name": "stderr",
          "text": [
            "[nltk_data] Downloading package maxent_ne_chunker to\n",
            "[nltk_data]     /root/nltk_data...\n",
            "[nltk_data]   Package maxent_ne_chunker is already up-to-date!\n",
            "[nltk_data] Downloading package words to /root/nltk_data...\n",
            "[nltk_data]   Package words is already up-to-date!\n"
          ]
        }
      ]
    },
    {
      "cell_type": "markdown",
      "source": [
        "- Named Entity Recognition done"
      ],
      "metadata": {
        "id": "44kvAyYf7Zkz"
      }
    },
    {
      "cell_type": "code",
      "source": [
        "named_entities = ne_chunk(pos_tags)\n",
        "\n",
        "print(named_entities)"
      ],
      "metadata": {
        "colab": {
          "base_uri": "https://localhost:8080/"
        },
        "id": "ah0MKizh6Lck",
        "outputId": "5e8f35cd-0d1b-4145-b5f5-0cf42ccbc02b"
      },
      "execution_count": 61,
      "outputs": [
        {
          "output_type": "stream",
          "name": "stdout",
          "text": [
            "(S\n",
            "  Contrary/JJ\n",
            "  to/TO\n",
            "  popular/JJ\n",
            "  belief/NN\n",
            "  ,/,\n",
            "  (PERSON Lorem/NNP Ipsum/NNP)\n",
            "  is/VBZ\n",
            "  not/RB\n",
            "  simply/RB\n",
            "  random/JJ\n",
            "  text/NN\n",
            "  ./.\n",
            "  It/PRP\n",
            "  has/VBZ\n",
            "  roots/VBN\n",
            "  in/IN\n",
            "  a/DT\n",
            "  piece/NN\n",
            "  of/IN\n",
            "  classical/JJ\n",
            "  Latin/JJ\n",
            "  literature/NN\n",
            "  from/IN\n",
            "  45/CD\n",
            "  BC/NNP\n",
            "  ,/,\n",
            "  making/VBG\n",
            "  it/PRP\n",
            "  over/IN\n",
            "  2000/CD\n",
            "  years/NNS\n",
            "  old/JJ\n",
            "  ./.\n",
            "  (PERSON Richard/NNP McClintock/NNP)\n",
            "  ,/,\n",
            "  a/DT\n",
            "  Latin/NN\n",
            "  professor/NN\n",
            "  at/IN\n",
            "  (ORGANIZATION Hampden-Sydney/NNP College/NNP)\n",
            "  in/IN\n",
            "  (GPE Virginia/NNP)\n",
            "  ,/,\n",
            "  looked/VBD\n",
            "  up/RP\n",
            "  one/CD\n",
            "  of/IN\n",
            "  the/DT\n",
            "  more/RBR\n",
            "  obscure/JJ\n",
            "  Latin/NNP\n",
            "  words/NNS\n",
            "  ,/,\n",
            "  consectetur/NN\n",
            "  ,/,\n",
            "  from/IN\n",
            "  a/DT\n",
            "  (ORGANIZATION Lorem/NNP Ipsum/NNP)\n",
            "  passage/NN\n",
            "  ,/,\n",
            "  and/CC\n",
            "  going/VBG\n",
            "  through/IN\n",
            "  the/DT\n",
            "  cites/NNS\n",
            "  of/IN\n",
            "  the/DT\n",
            "  word/NN\n",
            "  in/IN\n",
            "  classical/JJ\n",
            "  literature/NN\n",
            "  ,/,\n",
            "  discovered/VBD\n",
            "  the/DT\n",
            "  undoubtable/JJ\n",
            "  source/NN\n",
            "  ./.\n",
            "  (PERSON Lorem/NNP Ipsum/NNP)\n",
            "  comes/VBZ\n",
            "  from/IN\n",
            "  sections/NNS\n",
            "  1.10.32/CD\n",
            "  and/CC\n",
            "  1.10.33/CD\n",
            "  of/IN\n",
            "  ``/``\n",
            "  de/FW\n",
            "  (PERSON Finibus/NNP Bonorum/NNP)\n",
            "  et/FW\n",
            "  (PERSON Malorum/NNP)\n",
            "  ''/''\n",
            "  (/(\n",
            "  The/DT\n",
            "  (ORGANIZATION Extremes/NNP)\n",
            "  of/IN\n",
            "  (GPE Good/NNP)\n",
            "  and/CC\n",
            "  (GPE Evil/NNP)\n",
            "  )/)\n",
            "  by/IN\n",
            "  (PERSON Cicero/NNP)\n",
            "  ,/,\n",
            "  written/VBN\n",
            "  in/IN\n",
            "  45/CD\n",
            "  BC/NNP\n",
            "  ./.\n",
            "  This/DT\n",
            "  book/NN\n",
            "  is/VBZ\n",
            "  a/DT\n",
            "  treatise/NN\n",
            "  on/IN\n",
            "  the/DT\n",
            "  theory/NN\n",
            "  of/IN\n",
            "  ethics/NNS\n",
            "  ,/,\n",
            "  very/RB\n",
            "  popular/JJ\n",
            "  during/IN\n",
            "  the/DT\n",
            "  (GPE Renaissance/NNP)\n",
            "  ./.\n",
            "  The/DT\n",
            "  first/JJ\n",
            "  line/NN\n",
            "  of/IN\n",
            "  (PERSON Lorem/NNP Ipsum/NNP)\n",
            "  ,/,\n",
            "  ``/``\n",
            "  Lorem/NNP\n",
            "  ipsum/NN\n",
            "  dolor/NN\n",
            "  sit/NN\n",
            "  amet/VBD\n",
            "  ../NNP\n",
            "  ''/''\n",
            "  ,/,\n",
            "  comes/VBZ\n",
            "  from/IN\n",
            "  a/DT\n",
            "  line/NN\n",
            "  in/IN\n",
            "  section/NN\n",
            "  1.10.32/CD\n",
            "  ./.\n",
            "  The/DT\n",
            "  standard/JJ\n",
            "  chunk/NN\n",
            "  of/IN\n",
            "  (PERSON Lorem/NNP Ipsum/NNP)\n",
            "  used/VBD\n",
            "  since/IN\n",
            "  the/DT\n",
            "  1500s/CD\n",
            "  is/VBZ\n",
            "  reproduced/VBN\n",
            "  below/IN\n",
            "  for/IN\n",
            "  those/DT\n",
            "  interested/JJ\n",
            "  ./.\n",
            "  Sections/NNS\n",
            "  1.10.32/CD\n",
            "  and/CC\n",
            "  1.10.33/CD\n",
            "  from/IN\n",
            "  ``/``\n",
            "  de/FW\n",
            "  (PERSON Finibus/NNP Bonorum/NNP)\n",
            "  et/FW\n",
            "  (PERSON Malorum/NNP)\n",
            "  ''/''\n",
            "  by/IN\n",
            "  (PERSON Cicero/NNP)\n",
            "  are/VBP\n",
            "  also/RB\n",
            "  reproduced/VBN\n",
            "  in/IN\n",
            "  their/PRP$\n",
            "  exact/JJ\n",
            "  original/JJ\n",
            "  form/NN\n",
            "  ,/,\n",
            "  accompanied/VBN\n",
            "  by/IN\n",
            "  (GPE English/JJ)\n",
            "  versions/NNS\n",
            "  from/IN\n",
            "  the/DT\n",
            "  1914/CD\n",
            "  translation/NN\n",
            "  by/IN\n",
            "  H./NNP\n",
            "  Rackham/NNP\n",
            "  ./.)\n"
          ]
        }
      ]
    },
    {
      "cell_type": "markdown",
      "source": [
        "**Stemming and Lemmatisation:**"
      ],
      "metadata": {
        "id": "bgtxMx-877wy"
      }
    },
    {
      "cell_type": "code",
      "source": [
        "from nltk.stem import PorterStemmer, WordNetLemmatizer"
      ],
      "metadata": {
        "id": "zTED28K66dKR"
      },
      "execution_count": 62,
      "outputs": []
    },
    {
      "cell_type": "code",
      "source": [
        "stemmer = PorterStemmer()\n",
        "lemmatizer = WordNetLemmatizer()"
      ],
      "metadata": {
        "id": "uDKsFD4w8TS3"
      },
      "execution_count": 63,
      "outputs": []
    },
    {
      "cell_type": "code",
      "source": [
        "stemmed_words = [stemmer.stem(word) for word in tokens]"
      ],
      "metadata": {
        "id": "FXGK4rJd8cLA"
      },
      "execution_count": 64,
      "outputs": []
    },
    {
      "cell_type": "code",
      "source": [
        "lemmatized_words = [lemmatizer.lemmatize(word) for word in tokens]"
      ],
      "metadata": {
        "id": "6Ehc6jOj8nM2"
      },
      "execution_count": 65,
      "outputs": []
    },
    {
      "cell_type": "code",
      "source": [
        "print(\"Original words:\", tokens)\n",
        "print(\"Stemmed words:\", stemmed_words)\n",
        "print(\"Lemmatized words:\", lemmatized_words)"
      ],
      "metadata": {
        "colab": {
          "base_uri": "https://localhost:8080/"
        },
        "id": "bAlCFk-O81HM",
        "outputId": "d17ae995-2c62-4971-c300-0b3b47a7872a"
      },
      "execution_count": 66,
      "outputs": [
        {
          "output_type": "stream",
          "name": "stdout",
          "text": [
            "Original words: ['Traveling', 'to', 'different', 'countries', 'and', 'exploring', 'the', 'wonders', 'of', 'nature', 'is', 'a', 'deeply', 'enriching', 'and', 'transformative', 'experience', 'that', 'broadens', 'our', 'horizons', 'and', 'connects', 'us', 'to', 'the', 'world', 'in', 'profound', 'ways', '.', 'As', 'we', 'embark', 'on', 'this', 'incredible', 'journey', ',', 'we', 'are', 'greeted', 'by', 'the', 'awe-inspiring', 'landscapes', ',', 'diverse', 'ecosystems', ',', 'and', 'unique', 'flora', 'and', 'fauna', 'that', 'each', 'country', 'has', 'to', 'offer', '.', 'From', 'the', 'lush', 'rainforests', 'of', 'Costa', 'Rica', 'to', 'the', 'majestic', 'fjords', 'of', 'Norway', ',', 'every', 'destination', 'presents', 'a', 'tapestry', 'of', 'natural', 'beauty', 'that', 'captivates', 'our', 'senses', '.', 'The', 'vibrant', 'colors', 'of', 'tropical', 'birds', 'against', 'the', 'backdrop', 'of', 'dense', 'foliage', ',', 'or', 'the', 'tranquil', 'reflection', 'of', 'snow-capped', 'mountains', 'on', 'crystal-clear', 'lakes', ',', 'all', 'create', 'unforgettable', 'moments', 'etched', 'into', 'our', 'memories', '.', 'Exploring', 'these', 'landscapes', 'gives', 'us', 'an', 'intimate', 'glimpse', 'into', 'the', 'intricate', 'web', 'of', 'life', 'that', 'flourishes', 'on', 'our', 'planet', '.', 'As', 'we', 'venture', 'into', 'the', 'heart', 'of', 'these', 'countries', ',', 'we', 'find', 'ourselves', 'immersed', 'in', 'a', 'myriad', 'of', 'ecosystems', '.', 'The', 'dense', 'Amazon', 'rainforest', 'hums', 'with', 'the', 'melodies', 'of', 'unseen', 'creatures', ',', 'and', 'the', 'Australian', 'outback', 'stretches', 'out', 'in', 'a', 'seemingly', 'endless', 'expanse', ',', 'revealing', 'the', 'resilience', 'of', 'life', 'in', 'challenging', 'conditions', '.', 'The', 'Arctic', 'tundra', 'unveils', 'its', 'delicate', 'flora', 'and', 'reveals', 'the', 'awe-inspiring', 'migrations', 'of', 'animals', 'adapted', 'to', 'extreme', 'environments', '.', 'Each', 'of', 'these', 'ecosystems', 'reminds', 'us', 'of', 'the', 'delicate', 'balance', 'that', 'sustains', 'life', 'and', 'the', 'importance', 'of', 'preserving', 'them', 'for', 'future', 'generations', '.', 'Beyond', 'the', 'visual', 'splendor', ',', 'traveling', 'in', 'different', 'countries', 'allows', 'us', 'to', 'connect', 'with', 'local', 'communities', 'and', 'understand', 'their', 'relationship', 'with', 'nature', '.', 'Indigenous', 'cultures', ',', 'often', 'deeply', 'intertwined', 'with', 'their', 'surroundings', ',', 'share', 'their', 'wisdom', 'about', 'sustainable', 'practices', 'and', 'the', 'spiritual', 'significance', 'of', 'the', 'land', '.', 'Through', 'their', 'stories', 'and', 'traditions', ',', 'we', 'learn', 'that', 'our', 'connection', 'to', 'nature', 'goes', 'beyond', 'observation—it', \"'s\", 'a', 'relationship', 'that', 'demands', 'respect', 'and', 'responsibility', '.', 'The', 'act', 'of', 'exploration', 'also', 'offers', 'us', 'a', 'chance', 'to', 'reflect', 'on', 'the', 'impact', 'of', 'human', 'activity', 'on', 'the', 'environment', '.', 'Witnessing', 'coral', 'bleaching', 'in', 'the', 'Great', 'Barrier', 'Reef', 'or', 'the', 'receding', 'glaciers', 'in', 'the', 'Swiss', 'Alps', 'serves', 'as', 'a', 'stark', 'reminder', 'of', 'the', 'urgent', 'need', 'to', 'address', 'climate', 'change', '.', 'These', 'experiences', 'ignite', 'a', 'sense', 'of', 'stewardship', ',', 'compelling', 'us', 'to', 'take', 'action', 'in', 'our', 'own', 'lives', 'to', 'protect', 'the', 'natural', 'wonders', 'we', \"'ve\", 'been', 'fortunate', 'to', 'encounter', '.', 'Traveling', 'across', 'countries', 'to', 'explore', 'nature', 'is', 'not', 'just', 'about', 'admiring', 'the', 'scenic', 'beauty', ';', 'it', \"'s\", 'an', 'invitation', 'to', 'step', 'out', 'of', 'our', 'comfort', 'zones', 'and', 'embrace', 'the', 'unfamiliar', '.', 'Whether', 'it', \"'s\", 'hiking', 'through', 'the', 'dense', 'forests', 'of', 'Japan', 'or', 'kayaking', 'in', 'the', 'emerald', 'waters', 'of', 'New', 'Zealand', ',', 'each', 'adventure', 'challenges', 'us', 'and', 'fosters', 'personal', 'growth', '.', 'We', 'learn', 'to', 'navigate', 'new', 'terrains', ',', 'adapt', 'to', 'changing', 'weather', ',', 'and', 'appreciate', 'the', 'simple', 'joys', 'of', 'living', 'in', 'the', 'moment', '.', 'In', 'conclusion', ',', 'traveling', 'in', 'different', 'countries', 'and', 'immersing', 'ourselves', 'in', 'the', 'embrace', 'of', 'nature', 'is', 'a', 'transformative', 'journey', 'that', 'connects', 'us', 'to', 'the', 'world', \"'s\", 'most', 'captivating', 'landscapes', 'and', 'fosters', 'a', 'deep', 'sense', 'of', 'appreciation', 'and', 'responsibility', '.', 'Through', 'this', 'exploration', ',', 'we', 'discover', 'the', 'diversity', 'of', 'life', ',', 'the', 'resilience', 'of', 'ecosystems', ',', 'and', 'the', 'intricate', 'interplay', 'between', 'humans', 'and', 'the', 'environment', '.', 'As', 'we', 'return', 'from', 'these', 'journeys', ',', 'we', 'carry', 'with', 'us', 'not', 'only', 'memories', 'of', 'stunning', 'vistas', 'but', 'also', 'a', 'renewed', 'commitment', 'to', 'preserving', 'and', 'cherishing', 'the', 'natural', 'wonders', 'that', 'make', 'our', 'planet', 'a', 'remarkable', 'and', 'cherished', 'home', '.']\n",
            "Stemmed words: ['travel', 'to', 'differ', 'countri', 'and', 'explor', 'the', 'wonder', 'of', 'natur', 'is', 'a', 'deepli', 'enrich', 'and', 'transform', 'experi', 'that', 'broaden', 'our', 'horizon', 'and', 'connect', 'us', 'to', 'the', 'world', 'in', 'profound', 'way', '.', 'as', 'we', 'embark', 'on', 'thi', 'incred', 'journey', ',', 'we', 'are', 'greet', 'by', 'the', 'awe-inspir', 'landscap', ',', 'divers', 'ecosystem', ',', 'and', 'uniqu', 'flora', 'and', 'fauna', 'that', 'each', 'countri', 'ha', 'to', 'offer', '.', 'from', 'the', 'lush', 'rainforest', 'of', 'costa', 'rica', 'to', 'the', 'majest', 'fjord', 'of', 'norway', ',', 'everi', 'destin', 'present', 'a', 'tapestri', 'of', 'natur', 'beauti', 'that', 'captiv', 'our', 'sens', '.', 'the', 'vibrant', 'color', 'of', 'tropic', 'bird', 'against', 'the', 'backdrop', 'of', 'dens', 'foliag', ',', 'or', 'the', 'tranquil', 'reflect', 'of', 'snow-cap', 'mountain', 'on', 'crystal-clear', 'lake', ',', 'all', 'creat', 'unforgett', 'moment', 'etch', 'into', 'our', 'memori', '.', 'explor', 'these', 'landscap', 'give', 'us', 'an', 'intim', 'glimps', 'into', 'the', 'intric', 'web', 'of', 'life', 'that', 'flourish', 'on', 'our', 'planet', '.', 'as', 'we', 'ventur', 'into', 'the', 'heart', 'of', 'these', 'countri', ',', 'we', 'find', 'ourselv', 'immers', 'in', 'a', 'myriad', 'of', 'ecosystem', '.', 'the', 'dens', 'amazon', 'rainforest', 'hum', 'with', 'the', 'melodi', 'of', 'unseen', 'creatur', ',', 'and', 'the', 'australian', 'outback', 'stretch', 'out', 'in', 'a', 'seemingli', 'endless', 'expans', ',', 'reveal', 'the', 'resili', 'of', 'life', 'in', 'challeng', 'condit', '.', 'the', 'arctic', 'tundra', 'unveil', 'it', 'delic', 'flora', 'and', 'reveal', 'the', 'awe-inspir', 'migrat', 'of', 'anim', 'adapt', 'to', 'extrem', 'environ', '.', 'each', 'of', 'these', 'ecosystem', 'remind', 'us', 'of', 'the', 'delic', 'balanc', 'that', 'sustain', 'life', 'and', 'the', 'import', 'of', 'preserv', 'them', 'for', 'futur', 'gener', '.', 'beyond', 'the', 'visual', 'splendor', ',', 'travel', 'in', 'differ', 'countri', 'allow', 'us', 'to', 'connect', 'with', 'local', 'commun', 'and', 'understand', 'their', 'relationship', 'with', 'natur', '.', 'indigen', 'cultur', ',', 'often', 'deepli', 'intertwin', 'with', 'their', 'surround', ',', 'share', 'their', 'wisdom', 'about', 'sustain', 'practic', 'and', 'the', 'spiritu', 'signific', 'of', 'the', 'land', '.', 'through', 'their', 'stori', 'and', 'tradit', ',', 'we', 'learn', 'that', 'our', 'connect', 'to', 'natur', 'goe', 'beyond', 'observation—it', \"'s\", 'a', 'relationship', 'that', 'demand', 'respect', 'and', 'respons', '.', 'the', 'act', 'of', 'explor', 'also', 'offer', 'us', 'a', 'chanc', 'to', 'reflect', 'on', 'the', 'impact', 'of', 'human', 'activ', 'on', 'the', 'environ', '.', 'wit', 'coral', 'bleach', 'in', 'the', 'great', 'barrier', 'reef', 'or', 'the', 'reced', 'glacier', 'in', 'the', 'swiss', 'alp', 'serv', 'as', 'a', 'stark', 'remind', 'of', 'the', 'urgent', 'need', 'to', 'address', 'climat', 'chang', '.', 'these', 'experi', 'ignit', 'a', 'sens', 'of', 'stewardship', ',', 'compel', 'us', 'to', 'take', 'action', 'in', 'our', 'own', 'live', 'to', 'protect', 'the', 'natur', 'wonder', 'we', \"'ve\", 'been', 'fortun', 'to', 'encount', '.', 'travel', 'across', 'countri', 'to', 'explor', 'natur', 'is', 'not', 'just', 'about', 'admir', 'the', 'scenic', 'beauti', ';', 'it', \"'s\", 'an', 'invit', 'to', 'step', 'out', 'of', 'our', 'comfort', 'zone', 'and', 'embrac', 'the', 'unfamiliar', '.', 'whether', 'it', \"'s\", 'hike', 'through', 'the', 'dens', 'forest', 'of', 'japan', 'or', 'kayak', 'in', 'the', 'emerald', 'water', 'of', 'new', 'zealand', ',', 'each', 'adventur', 'challeng', 'us', 'and', 'foster', 'person', 'growth', '.', 'we', 'learn', 'to', 'navig', 'new', 'terrain', ',', 'adapt', 'to', 'chang', 'weather', ',', 'and', 'appreci', 'the', 'simpl', 'joy', 'of', 'live', 'in', 'the', 'moment', '.', 'in', 'conclus', ',', 'travel', 'in', 'differ', 'countri', 'and', 'immers', 'ourselv', 'in', 'the', 'embrac', 'of', 'natur', 'is', 'a', 'transform', 'journey', 'that', 'connect', 'us', 'to', 'the', 'world', \"'s\", 'most', 'captiv', 'landscap', 'and', 'foster', 'a', 'deep', 'sens', 'of', 'appreci', 'and', 'respons', '.', 'through', 'thi', 'explor', ',', 'we', 'discov', 'the', 'divers', 'of', 'life', ',', 'the', 'resili', 'of', 'ecosystem', ',', 'and', 'the', 'intric', 'interplay', 'between', 'human', 'and', 'the', 'environ', '.', 'as', 'we', 'return', 'from', 'these', 'journey', ',', 'we', 'carri', 'with', 'us', 'not', 'onli', 'memori', 'of', 'stun', 'vista', 'but', 'also', 'a', 'renew', 'commit', 'to', 'preserv', 'and', 'cherish', 'the', 'natur', 'wonder', 'that', 'make', 'our', 'planet', 'a', 'remark', 'and', 'cherish', 'home', '.']\n",
            "Lemmatized words: ['Traveling', 'to', 'different', 'country', 'and', 'exploring', 'the', 'wonder', 'of', 'nature', 'is', 'a', 'deeply', 'enriching', 'and', 'transformative', 'experience', 'that', 'broadens', 'our', 'horizon', 'and', 'connects', 'u', 'to', 'the', 'world', 'in', 'profound', 'way', '.', 'As', 'we', 'embark', 'on', 'this', 'incredible', 'journey', ',', 'we', 'are', 'greeted', 'by', 'the', 'awe-inspiring', 'landscape', ',', 'diverse', 'ecosystem', ',', 'and', 'unique', 'flora', 'and', 'fauna', 'that', 'each', 'country', 'ha', 'to', 'offer', '.', 'From', 'the', 'lush', 'rainforest', 'of', 'Costa', 'Rica', 'to', 'the', 'majestic', 'fjord', 'of', 'Norway', ',', 'every', 'destination', 'present', 'a', 'tapestry', 'of', 'natural', 'beauty', 'that', 'captivates', 'our', 'sens', '.', 'The', 'vibrant', 'color', 'of', 'tropical', 'bird', 'against', 'the', 'backdrop', 'of', 'dense', 'foliage', ',', 'or', 'the', 'tranquil', 'reflection', 'of', 'snow-capped', 'mountain', 'on', 'crystal-clear', 'lake', ',', 'all', 'create', 'unforgettable', 'moment', 'etched', 'into', 'our', 'memory', '.', 'Exploring', 'these', 'landscape', 'give', 'u', 'an', 'intimate', 'glimpse', 'into', 'the', 'intricate', 'web', 'of', 'life', 'that', 'flourish', 'on', 'our', 'planet', '.', 'As', 'we', 'venture', 'into', 'the', 'heart', 'of', 'these', 'country', ',', 'we', 'find', 'ourselves', 'immersed', 'in', 'a', 'myriad', 'of', 'ecosystem', '.', 'The', 'dense', 'Amazon', 'rainforest', 'hum', 'with', 'the', 'melody', 'of', 'unseen', 'creature', ',', 'and', 'the', 'Australian', 'outback', 'stretch', 'out', 'in', 'a', 'seemingly', 'endless', 'expanse', ',', 'revealing', 'the', 'resilience', 'of', 'life', 'in', 'challenging', 'condition', '.', 'The', 'Arctic', 'tundra', 'unveils', 'it', 'delicate', 'flora', 'and', 'reveals', 'the', 'awe-inspiring', 'migration', 'of', 'animal', 'adapted', 'to', 'extreme', 'environment', '.', 'Each', 'of', 'these', 'ecosystem', 'reminds', 'u', 'of', 'the', 'delicate', 'balance', 'that', 'sustains', 'life', 'and', 'the', 'importance', 'of', 'preserving', 'them', 'for', 'future', 'generation', '.', 'Beyond', 'the', 'visual', 'splendor', ',', 'traveling', 'in', 'different', 'country', 'allows', 'u', 'to', 'connect', 'with', 'local', 'community', 'and', 'understand', 'their', 'relationship', 'with', 'nature', '.', 'Indigenous', 'culture', ',', 'often', 'deeply', 'intertwined', 'with', 'their', 'surroundings', ',', 'share', 'their', 'wisdom', 'about', 'sustainable', 'practice', 'and', 'the', 'spiritual', 'significance', 'of', 'the', 'land', '.', 'Through', 'their', 'story', 'and', 'tradition', ',', 'we', 'learn', 'that', 'our', 'connection', 'to', 'nature', 'go', 'beyond', 'observation—it', \"'s\", 'a', 'relationship', 'that', 'demand', 'respect', 'and', 'responsibility', '.', 'The', 'act', 'of', 'exploration', 'also', 'offer', 'u', 'a', 'chance', 'to', 'reflect', 'on', 'the', 'impact', 'of', 'human', 'activity', 'on', 'the', 'environment', '.', 'Witnessing', 'coral', 'bleaching', 'in', 'the', 'Great', 'Barrier', 'Reef', 'or', 'the', 'receding', 'glacier', 'in', 'the', 'Swiss', 'Alps', 'serf', 'a', 'a', 'stark', 'reminder', 'of', 'the', 'urgent', 'need', 'to', 'address', 'climate', 'change', '.', 'These', 'experience', 'ignite', 'a', 'sense', 'of', 'stewardship', ',', 'compelling', 'u', 'to', 'take', 'action', 'in', 'our', 'own', 'life', 'to', 'protect', 'the', 'natural', 'wonder', 'we', \"'ve\", 'been', 'fortunate', 'to', 'encounter', '.', 'Traveling', 'across', 'country', 'to', 'explore', 'nature', 'is', 'not', 'just', 'about', 'admiring', 'the', 'scenic', 'beauty', ';', 'it', \"'s\", 'an', 'invitation', 'to', 'step', 'out', 'of', 'our', 'comfort', 'zone', 'and', 'embrace', 'the', 'unfamiliar', '.', 'Whether', 'it', \"'s\", 'hiking', 'through', 'the', 'dense', 'forest', 'of', 'Japan', 'or', 'kayaking', 'in', 'the', 'emerald', 'water', 'of', 'New', 'Zealand', ',', 'each', 'adventure', 'challenge', 'u', 'and', 'foster', 'personal', 'growth', '.', 'We', 'learn', 'to', 'navigate', 'new', 'terrain', ',', 'adapt', 'to', 'changing', 'weather', ',', 'and', 'appreciate', 'the', 'simple', 'joy', 'of', 'living', 'in', 'the', 'moment', '.', 'In', 'conclusion', ',', 'traveling', 'in', 'different', 'country', 'and', 'immersing', 'ourselves', 'in', 'the', 'embrace', 'of', 'nature', 'is', 'a', 'transformative', 'journey', 'that', 'connects', 'u', 'to', 'the', 'world', \"'s\", 'most', 'captivating', 'landscape', 'and', 'foster', 'a', 'deep', 'sense', 'of', 'appreciation', 'and', 'responsibility', '.', 'Through', 'this', 'exploration', ',', 'we', 'discover', 'the', 'diversity', 'of', 'life', ',', 'the', 'resilience', 'of', 'ecosystem', ',', 'and', 'the', 'intricate', 'interplay', 'between', 'human', 'and', 'the', 'environment', '.', 'As', 'we', 'return', 'from', 'these', 'journey', ',', 'we', 'carry', 'with', 'u', 'not', 'only', 'memory', 'of', 'stunning', 'vista', 'but', 'also', 'a', 'renewed', 'commitment', 'to', 'preserving', 'and', 'cherishing', 'the', 'natural', 'wonder', 'that', 'make', 'our', 'planet', 'a', 'remarkable', 'and', 'cherished', 'home', '.']\n"
          ]
        }
      ]
    }
  ]
}