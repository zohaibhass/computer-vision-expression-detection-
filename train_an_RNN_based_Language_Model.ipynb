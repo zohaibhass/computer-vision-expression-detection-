{
  "nbformat": 4,
  "nbformat_minor": 0,
  "metadata": {
    "colab": {
      "provenance": [],
      "authorship_tag": "ABX9TyN9wfKjBoc8Md8WpVmvtHeQ",
      "include_colab_link": true
    },
    "kernelspec": {
      "name": "python3",
      "display_name": "Python 3"
    },
    "language_info": {
      "name": "python"
    }
  },
  "cells": [
    {
      "cell_type": "markdown",
      "metadata": {
        "id": "view-in-github",
        "colab_type": "text"
      },
      "source": [
        "<a href=\"https://colab.research.google.com/github/zohaibhass/computer-vision-expression-detection-/blob/main/train_an_RNN_based_Language_Model.ipynb\" target=\"_parent\"><img src=\"https://colab.research.google.com/assets/colab-badge.svg\" alt=\"Open In Colab\"/></a>"
      ]
    },
    {
      "cell_type": "markdown",
      "source": [
        "**imporetd all  impportant libraries needed**"
      ],
      "metadata": {
        "id": "UvmXONkmsKSy"
      }
    },
    {
      "cell_type": "code",
      "execution_count": 33,
      "metadata": {
        "id": "BK5lIj6xizc6"
      },
      "outputs": [],
      "source": [
        "import tensorflow as tf\n",
        "from tensorflow.keras.models import Sequential\n",
        "from tensorflow.keras.layers import Embedding, LSTM, Dense\n",
        "from tensorflow.keras.preprocessing.text import Tokenizer\n",
        "from tensorflow.keras.preprocessing.sequence import pad_sequences\n",
        "import numpy as np"
      ]
    },
    {
      "cell_type": "markdown",
      "source": [
        " **declariation of varaible**"
      ],
      "metadata": {
        "id": "BtL4P7GhsYjq"
      }
    },
    {
      "cell_type": "code",
      "source": [
        "corpus = [\n",
        "    \"This is the first sentence.\",\n",
        "    \"Here comes the second sentence.\",\n",
        "    \"And this is the third sentence.\",\n",
        "    \"The last sentence ends here.\"\n",
        "]\n"
      ],
      "metadata": {
        "id": "lFOfO6Yii_f6"
      },
      "execution_count": 34,
      "outputs": []
    },
    {
      "cell_type": "markdown",
      "source": [
        "**bold text Hyperparameters**"
      ],
      "metadata": {
        "id": "sq0PszbKsl0m"
      }
    },
    {
      "cell_type": "code",
      "source": [
        "vocab_size = 1000\n",
        "embedding_dim = 100\n",
        "max_sequence_length = 10\n",
        "num_epochs = 50\n"
      ],
      "metadata": {
        "id": "JWCE6kIrjHyL"
      },
      "execution_count": 35,
      "outputs": []
    },
    {
      "cell_type": "markdown",
      "source": [
        "**Tokenize and pad the sequences**"
      ],
      "metadata": {
        "id": "O-dn5UW0ss14"
      }
    },
    {
      "cell_type": "code",
      "source": [
        "tokenizer = Tokenizer(num_words=vocab_size, oov_token=\"<OOV>\")\n",
        "tokenizer.fit_on_texts(corpus)\n",
        "sequences = tokenizer.texts_to_sequences(corpus)\n",
        "padded_sequences = pad_sequences(sequences, maxlen=max_sequence_length, padding=\"post\", truncating=\"post\")"
      ],
      "metadata": {
        "id": "1Q-arbuxjM1n"
      },
      "execution_count": 36,
      "outputs": []
    },
    {
      "cell_type": "markdown",
      "source": [
        "**Prepare input and target sequences**"
      ],
      "metadata": {
        "id": "glPW8pwrs0IC"
      }
    },
    {
      "cell_type": "code",
      "source": [
        "input_sequences = padded_sequences[:, :-1]\n",
        "target_sequences = padded_sequences[:, 1:]"
      ],
      "metadata": {
        "id": "4iyhCHo0jRvi"
      },
      "execution_count": 37,
      "outputs": []
    },
    {
      "cell_type": "markdown",
      "source": [
        "**Create the RNN model**"
      ],
      "metadata": {
        "id": "XBzgrIRqs3xz"
      }
    },
    {
      "cell_type": "code",
      "source": [
        "model = Sequential([\n",
        "    Embedding(input_dim=vocab_size, output_dim=embedding_dim, input_length=max_sequence_length - 1),\n",
        "    LSTM(128, return_sequences=True),\n",
        "    Dense(vocab_size, activation=\"softmax\")\n",
        "])"
      ],
      "metadata": {
        "id": "QSvHOEiDjbD0"
      },
      "execution_count": 38,
      "outputs": []
    },
    {
      "cell_type": "code",
      "source": [
        "model.compile(loss=\"sparse_categorical_crossentropy\", optimizer=\"adam\", metrics=[\"accuracy\"])\n",
        "model.summary()"
      ],
      "metadata": {
        "colab": {
          "base_uri": "https://localhost:8080/"
        },
        "id": "RPD1EcMujsAx",
        "outputId": "1d8afb5a-763f-43b0-d9d7-935bd833da1c"
      },
      "execution_count": 39,
      "outputs": [
        {
          "output_type": "stream",
          "name": "stdout",
          "text": [
            "Model: \"sequential_4\"\n",
            "_________________________________________________________________\n",
            " Layer (type)                Output Shape              Param #   \n",
            "=================================================================\n",
            " embedding_4 (Embedding)     (None, 9, 100)            100000    \n",
            "                                                                 \n",
            " lstm_4 (LSTM)               (None, 9, 128)            117248    \n",
            "                                                                 \n",
            " dense_4 (Dense)             (None, 9, 1000)           129000    \n",
            "                                                                 \n",
            "=================================================================\n",
            "Total params: 346,248\n",
            "Trainable params: 346,248\n",
            "Non-trainable params: 0\n",
            "_________________________________________________________________\n"
          ]
        }
      ]
    },
    {
      "cell_type": "markdown",
      "source": [
        "**Train the model**"
      ],
      "metadata": {
        "id": "CNOJirKms_5-"
      }
    },
    {
      "cell_type": "code",
      "source": [
        "\n",
        "model.fit(input_sequences, target_sequences, epochs=num_epochs)\n"
      ],
      "metadata": {
        "colab": {
          "base_uri": "https://localhost:8080/"
        },
        "id": "qFYQaJAQjwKK",
        "outputId": "01f4b03a-0212-4634-efac-ad3adc41a015"
      },
      "execution_count": 41,
      "outputs": [
        {
          "output_type": "stream",
          "name": "stdout",
          "text": [
            "Epoch 1/50\n",
            "1/1 [==============================] - 0s 16ms/step - loss: 1.9823 - accuracy: 0.5278\n",
            "Epoch 2/50\n",
            "1/1 [==============================] - 0s 16ms/step - loss: 1.9687 - accuracy: 0.5278\n",
            "Epoch 3/50\n",
            "1/1 [==============================] - 0s 17ms/step - loss: 1.9560 - accuracy: 0.5278\n",
            "Epoch 4/50\n",
            "1/1 [==============================] - 0s 17ms/step - loss: 1.9436 - accuracy: 0.5278\n",
            "Epoch 5/50\n",
            "1/1 [==============================] - 0s 17ms/step - loss: 1.9314 - accuracy: 0.5278\n",
            "Epoch 6/50\n",
            "1/1 [==============================] - 0s 14ms/step - loss: 1.9190 - accuracy: 0.5278\n",
            "Epoch 7/50\n",
            "1/1 [==============================] - 0s 14ms/step - loss: 1.9064 - accuracy: 0.5278\n",
            "Epoch 8/50\n",
            "1/1 [==============================] - 0s 17ms/step - loss: 1.8938 - accuracy: 0.5278\n",
            "Epoch 9/50\n",
            "1/1 [==============================] - 0s 14ms/step - loss: 1.8810 - accuracy: 0.5278\n",
            "Epoch 10/50\n",
            "1/1 [==============================] - 0s 18ms/step - loss: 1.8681 - accuracy: 0.5278\n",
            "Epoch 11/50\n",
            "1/1 [==============================] - 0s 16ms/step - loss: 1.8551 - accuracy: 0.5278\n",
            "Epoch 12/50\n",
            "1/1 [==============================] - 0s 15ms/step - loss: 1.8418 - accuracy: 0.5278\n",
            "Epoch 13/50\n",
            "1/1 [==============================] - 0s 15ms/step - loss: 1.8284 - accuracy: 0.5278\n",
            "Epoch 14/50\n",
            "1/1 [==============================] - 0s 16ms/step - loss: 1.8149 - accuracy: 0.5278\n",
            "Epoch 15/50\n",
            "1/1 [==============================] - 0s 17ms/step - loss: 1.8022 - accuracy: 0.5278\n",
            "Epoch 16/50\n",
            "1/1 [==============================] - 0s 19ms/step - loss: 1.7908 - accuracy: 0.5278\n",
            "Epoch 17/50\n",
            "1/1 [==============================] - 0s 17ms/step - loss: 1.7807 - accuracy: 0.5278\n",
            "Epoch 18/50\n",
            "1/1 [==============================] - 0s 18ms/step - loss: 1.7705 - accuracy: 0.5278\n",
            "Epoch 19/50\n",
            "1/1 [==============================] - 0s 16ms/step - loss: 1.7593 - accuracy: 0.5278\n",
            "Epoch 20/50\n",
            "1/1 [==============================] - 0s 17ms/step - loss: 1.7482 - accuracy: 0.5278\n",
            "Epoch 21/50\n",
            "1/1 [==============================] - 0s 15ms/step - loss: 1.7378 - accuracy: 0.5278\n",
            "Epoch 22/50\n",
            "1/1 [==============================] - 0s 14ms/step - loss: 1.7280 - accuracy: 0.5278\n",
            "Epoch 23/50\n",
            "1/1 [==============================] - 0s 15ms/step - loss: 1.7183 - accuracy: 0.5278\n",
            "Epoch 24/50\n",
            "1/1 [==============================] - 0s 16ms/step - loss: 1.7082 - accuracy: 0.5278\n",
            "Epoch 25/50\n",
            "1/1 [==============================] - 0s 15ms/step - loss: 1.6980 - accuracy: 0.5278\n",
            "Epoch 26/50\n",
            "1/1 [==============================] - 0s 17ms/step - loss: 1.6879 - accuracy: 0.5278\n",
            "Epoch 27/50\n",
            "1/1 [==============================] - 0s 15ms/step - loss: 1.6786 - accuracy: 0.5278\n",
            "Epoch 28/50\n",
            "1/1 [==============================] - 0s 17ms/step - loss: 1.6698 - accuracy: 0.5278\n",
            "Epoch 29/50\n",
            "1/1 [==============================] - 0s 15ms/step - loss: 1.6607 - accuracy: 0.5278\n",
            "Epoch 30/50\n",
            "1/1 [==============================] - 0s 16ms/step - loss: 1.6511 - accuracy: 0.5278\n",
            "Epoch 31/50\n",
            "1/1 [==============================] - 0s 15ms/step - loss: 1.6417 - accuracy: 0.5278\n",
            "Epoch 32/50\n",
            "1/1 [==============================] - 0s 15ms/step - loss: 1.6327 - accuracy: 0.5278\n",
            "Epoch 33/50\n",
            "1/1 [==============================] - 0s 15ms/step - loss: 1.6239 - accuracy: 0.5278\n",
            "Epoch 34/50\n",
            "1/1 [==============================] - 0s 15ms/step - loss: 1.6152 - accuracy: 0.5278\n",
            "Epoch 35/50\n",
            "1/1 [==============================] - 0s 15ms/step - loss: 1.6063 - accuracy: 0.5278\n",
            "Epoch 36/50\n",
            "1/1 [==============================] - 0s 19ms/step - loss: 1.5974 - accuracy: 0.5278\n",
            "Epoch 37/50\n",
            "1/1 [==============================] - 0s 19ms/step - loss: 1.5886 - accuracy: 0.5278\n",
            "Epoch 38/50\n",
            "1/1 [==============================] - 0s 16ms/step - loss: 1.5799 - accuracy: 0.5278\n",
            "Epoch 39/50\n",
            "1/1 [==============================] - 0s 15ms/step - loss: 1.5711 - accuracy: 0.5278\n",
            "Epoch 40/50\n",
            "1/1 [==============================] - 0s 16ms/step - loss: 1.5620 - accuracy: 0.5278\n",
            "Epoch 41/50\n",
            "1/1 [==============================] - 0s 17ms/step - loss: 1.5531 - accuracy: 0.5278\n",
            "Epoch 42/50\n",
            "1/1 [==============================] - 0s 15ms/step - loss: 1.5442 - accuracy: 0.5278\n",
            "Epoch 43/50\n",
            "1/1 [==============================] - 0s 17ms/step - loss: 1.5354 - accuracy: 0.5278\n",
            "Epoch 44/50\n",
            "1/1 [==============================] - 0s 15ms/step - loss: 1.5265 - accuracy: 0.5278\n",
            "Epoch 45/50\n",
            "1/1 [==============================] - 0s 15ms/step - loss: 1.5175 - accuracy: 0.5278\n",
            "Epoch 46/50\n",
            "1/1 [==============================] - 0s 18ms/step - loss: 1.5085 - accuracy: 0.5278\n",
            "Epoch 47/50\n",
            "1/1 [==============================] - 0s 21ms/step - loss: 1.4997 - accuracy: 0.5278\n",
            "Epoch 48/50\n",
            "1/1 [==============================] - 0s 16ms/step - loss: 1.4909 - accuracy: 0.5278\n",
            "Epoch 49/50\n",
            "1/1 [==============================] - 0s 19ms/step - loss: 1.4819 - accuracy: 0.5556\n",
            "Epoch 50/50\n",
            "1/1 [==============================] - 0s 16ms/step - loss: 1.4728 - accuracy: 0.5833\n"
          ]
        },
        {
          "output_type": "execute_result",
          "data": {
            "text/plain": [
              "<keras.callbacks.History at 0x7b8c4788df30>"
            ]
          },
          "metadata": {},
          "execution_count": 41
        }
      ]
    },
    {
      "cell_type": "markdown",
      "source": [
        "**Generate text using the trained model**\n"
      ],
      "metadata": {
        "id": "xXMwEXXVtQTx"
      }
    },
    {
      "cell_type": "code",
      "source": [
        "seed_text = \"This is\"\n",
        "num_generate = 10\n"
      ],
      "metadata": {
        "id": "Dm0CpGGdj40L"
      },
      "execution_count": 42,
      "outputs": []
    },
    {
      "cell_type": "code",
      "source": [
        "seed_text = \"This is\"\n",
        "\n",
        "for _ in range(num_generate):\n",
        "    seed_sequence = tokenizer.texts_to_sequences([seed_text])[0]\n",
        "    padded_seed = pad_sequences([seed_sequence], maxlen=max_sequence_length - 1, padding=\"post\", truncating=\"post\")\n",
        "    predicted_probs = model.predict(padded_seed)[0]  # Get probabilities for the first sequence\n",
        "    predicted_word_index = np.argmax(predicted_probs)  # Choose the word with highest probability\n",
        "    predicted_word = tokenizer.index_word.get(predicted_word_index, \"<OOV>\")  # Use OOV token for unknown words\n",
        "    seed_text += \" \" + predicted_word\n",
        "\n",
        "print(\"Generated text:\", seed_text)"
      ],
      "metadata": {
        "colab": {
          "base_uri": "https://localhost:8080/"
        },
        "id": "nzdSC6JwpRfy",
        "outputId": "88dd0060-1fcd-4f4a-d1bf-abc3209312fc"
      },
      "execution_count": 56,
      "outputs": [
        {
          "output_type": "stream",
          "name": "stdout",
          "text": [
            "1/1 [==============================] - 0s 16ms/step\n",
            "1/1 [==============================] - 0s 15ms/step\n",
            "1/1 [==============================] - 0s 14ms/step\n",
            "1/1 [==============================] - 0s 15ms/step\n",
            "1/1 [==============================] - 0s 15ms/step\n",
            "1/1 [==============================] - 0s 24ms/step\n",
            "1/1 [==============================] - 0s 20ms/step\n",
            "1/1 [==============================] - 0s 17ms/step\n",
            "1/1 [==============================] - 0s 17ms/step\n",
            "1/1 [==============================] - 0s 17ms/step\n",
            "Generated text: This is <OOV> <OOV> <OOV> <OOV> <OOV> <OOV> <OOV> <OOV> <OOV> <OOV>\n"
          ]
        }
      ]
    }
  ]
}